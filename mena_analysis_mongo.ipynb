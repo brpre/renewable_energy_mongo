{
 "cells": [
  {
   "cell_type": "code",
   "execution_count": 1,
   "metadata": {
    "collapsed": true
   },
   "outputs": [],
   "source": [
    "import requests\n",
    "import pymongo"
   ]
  },
  {
   "cell_type": "markdown",
   "source": [
    "### Info on dataset and source\n",
    "[link to source on energydata.info website!](https://energydata.info/dataset/mena-energy-indicators-2017)\n",
    "\n",
    "\"Various indicators for MENA countries to get an overview of the countries energy and economic profiles. The indicators are organized in 6 categories: economic indicators, energy indicators, oil indicators, gas indicators, electricity indicators & energy efficiency indicators. Each indicator includes name, unit, year, and value for that year. Main sources are the World Bank Group, the IMF, KNOEMA aggregating platform and EIA.\""
   ],
   "metadata": {
    "collapsed": false
   }
  },
  {
   "cell_type": "code",
   "execution_count": 2,
   "outputs": [
    {
     "data": {
      "text/plain": "<Response [200]>"
     },
     "execution_count": 2,
     "metadata": {},
     "output_type": "execute_result"
    }
   ],
   "source": [
    "mena_resp = requests.get('https://development-data-hub-s3-public.s3.amazonaws.com/ddhfiles/145369/pa-retp-indicators.json')\n",
    "mena_json = mena_resp.json()\n",
    "mena_resp"
   ],
   "metadata": {
    "collapsed": false
   }
  },
  {
   "cell_type": "code",
   "execution_count": 3,
   "outputs": [
    {
     "data": {
      "text/plain": "['algeria',\n 'bahrain',\n 'egypt',\n 'iraq',\n 'jordan',\n 'kuwait',\n 'lebanon',\n 'libya',\n 'morocco',\n 'oman',\n 'qatar',\n 'saudi arabia',\n 'syria',\n 'tunisia',\n 'uae',\n 'west bank and gaza',\n 'yemen']"
     },
     "execution_count": 3,
     "metadata": {},
     "output_type": "execute_result"
    }
   ],
   "source": [
    "# list all countries found in this json list\n",
    "[mena_json['countries'][country]['name'] for country in range(len(mena_json['countries']))]"
   ],
   "metadata": {
    "collapsed": false
   }
  },
  {
   "cell_type": "code",
   "execution_count": 4,
   "outputs": [
    {
     "data": {
      "text/plain": "['economic indicators',\n 'energy indicators',\n 'oil indicators',\n 'gas indicators',\n 'electricity indicators',\n 'energy efficiency indicators']"
     },
     "execution_count": 4,
     "metadata": {},
     "output_type": "execute_result"
    }
   ],
   "source": [
    "# show all data categories for\n",
    "[item['type'] for item in mena_json['countries'][0]['subject']]"
   ],
   "metadata": {
    "collapsed": false
   }
  },
  {
   "cell_type": "code",
   "execution_count": 5,
   "outputs": [
    {
     "data": {
      "text/plain": "[{'name': 'GDP per capita',\n  'unit': 'US $',\n  'values': [{'year': 2010, 'value': 4481},\n   {'year': 2011, 'value': 5431},\n   {'year': 2012, 'value': 5574},\n   {'year': 2013, 'value': 5476},\n   {'year': 2014, 'value': 5459},\n   {'year': 2015, 'value': 4175},\n   {'year': 2016, 'value': 4129},\n   {'year': 2017, 'value': ''}]},\n {'name': 'Population',\n  'unit': 'million',\n  'values': [{'year': 2010, 'value': 36.04},\n   {'year': 2011, 'value': 36.72},\n   {'year': 2012, 'value': 37.44},\n   {'year': 2013, 'value': 38.19},\n   {'year': 2014, 'value': 38.93},\n   {'year': 2015, 'value': 39.67},\n   {'year': 2016, 'value': 40.38},\n   {'year': 2017, 'value': ''}]},\n {'name': 'Human Development Index',\n  'unit': '',\n  'values': [{'year': 2010, 'value': 0.71},\n   {'year': 2011, 'value': 0.72},\n   {'year': 2012, 'value': 0.72},\n   {'year': 2013, 'value': 0.72},\n   {'year': 2014, 'value': 0.74},\n   {'year': 2015, 'value': ''},\n   {'year': 2016, 'value': ''},\n   {'year': 2017, 'value': ''}]},\n {'name': 'CO2 emissions intensity',\n  'unit': 'kg/$1000 of GDP',\n  'values': [{'year': 2010, 'value': 246.88},\n   {'year': 2011, 'value': 251.46},\n   {'year': 2012, 'value': 259.52},\n   {'year': 2013, 'value': 258.53},\n   {'year': 2014, 'value': 268.36},\n   {'year': 2015, 'value': 269.37},\n   {'year': 2016, 'value': ''},\n   {'year': 2017, 'value': ''}]},\n {'name': 'CO2 emissions per capita',\n  'unit': 'metric tons',\n  'values': [{'year': 2010, 'value': 3.18},\n   {'year': 2011, 'value': 3.28},\n   {'year': 2012, 'value': 3.43},\n   {'year': 2013, 'value': 3.44},\n   {'year': 2014, 'value': 3.64},\n   {'year': 2015, 'value': 3.72},\n   {'year': 2016, 'value': ''},\n   {'year': 2017, 'value': ''}]}]"
     },
     "execution_count": 5,
     "metadata": {},
     "output_type": "execute_result"
    }
   ],
   "source": [
    "# item 0: economic indicators\n",
    "    # 3 is gdp per capita\n",
    "    # 5 is pop\n",
    "    # 7 is HDI\n",
    "    # 13 is co2 em itensity\n",
    "    # 14 is co2 per capita\n",
    "econ_indics = [3, 5, 7, 13, 14]\n",
    "[mena_json['countries'][0]['subject'][0]['indicator'][sec] for sec in econ_indics]"
   ],
   "metadata": {
    "collapsed": false
   }
  },
  {
   "cell_type": "code",
   "execution_count": 6,
   "outputs": [
    {
     "data": {
      "text/plain": "[{'name': 'Gross energy production',\n  'unit': 'ktoe',\n  'values': [{'year': 2010, 'value': 150510.895},\n   {'year': 2011, 'value': 145832.565},\n   {'year': 2012, 'value': 143763.68},\n   {'year': 2013, 'value': 137669.492},\n   {'year': 2014, 'value': 143197.3},\n   {'year': 2015, 'value': ''},\n   {'year': 2016, 'value': ''},\n   {'year': 2017, 'value': ''}]},\n {'name': 'Gross energy production - Crude Oil and Oil Products',\n  'unit': '%',\n  'values': [{'year': 2010, 'value': 52.15272223316458},\n   {'year': 2011, 'value': 52.25005539743472},\n   {'year': 2012, 'value': 49.515179355453334},\n   {'year': 2013, 'value': 49.92558990484253},\n   {'year': 2014, 'value': 50.96184564932439},\n   {'year': 2015, 'value': ''},\n   {'year': 2016, 'value': ''},\n   {'year': 2017, 'value': ''}]},\n {'name': 'Gross energy production - Natural Gas',\n  'unit': '%',\n  'values': [{'year': 2010, 'value': 47.80292217383998},\n   {'year': 2011, 'value': 47.70930415987677},\n   {'year': 2012, 'value': 50.43678208571178},\n   {'year': 2013, 'value': 50.03787113560353},\n   {'year': 2014, 'value': 49.01871403999937},\n   {'year': 2015, 'value': ''},\n   {'year': 2016, 'value': ''},\n   {'year': 2017, 'value': ''}]},\n {'name': 'Gross energy production - Coal',\n  'unit': '%',\n  'values': [{'year': 2010, 'value': 0},\n   {'year': 2011, 'value': 0},\n   {'year': 2012, 'value': 0},\n   {'year': 2013, 'value': 0},\n   {'year': 2014, 'value': 0},\n   {'year': 2015, 'value': ''},\n   {'year': 2016, 'value': ''},\n   {'year': 2017, 'value': ''}]},\n {'name': 'Gross energy production - Nuclear',\n  'unit': '%',\n  'values': [{'year': 2010, 'value': 0},\n   {'year': 2011, 'value': 0},\n   {'year': 2012, 'value': 0},\n   {'year': 2013, 'value': 0},\n   {'year': 2014, 'value': 0},\n   {'year': 2015, 'value': ''},\n   {'year': 2016, 'value': ''},\n   {'year': 2017, 'value': ''}]},\n {'name': 'Gross energy production - Renewables',\n  'unit': '%',\n  'values': [{'year': 2010, 'value': 0.044355592995443956},\n   {'year': 2011, 'value': 0.04064044268850377},\n   {'year': 2012, 'value': 0.048038558834887925},\n   {'year': 2013, 'value': 0.0365382331765995},\n   {'year': 2014, 'value': 0.019440310676248785},\n   {'year': 2015, 'value': ''},\n   {'year': 2016, 'value': ''},\n   {'year': 2017, 'value': ''}]},\n {'name': 'Gross energy production - Solar',\n  'unit': '%',\n  'values': [{'year': 2010, 'value': 0},\n   {'year': 2011, 'value': 0},\n   {'year': 2012, 'value': 0},\n   {'year': 2013, 'value': 0},\n   {'year': 2014, 'value': 0},\n   {'year': 2015, 'value': ''},\n   {'year': 2016, 'value': ''},\n   {'year': 2017, 'value': ''}]},\n {'name': 'Gross energy production - Wind',\n  'unit': '%',\n  'values': [{'year': 2010, 'value': 0},\n   {'year': 2011, 'value': 0},\n   {'year': 2012, 'value': 0},\n   {'year': 2013, 'value': 0},\n   {'year': 2014, 'value': 0},\n   {'year': 2015, 'value': ''},\n   {'year': 2016, 'value': ''},\n   {'year': 2017, 'value': ''}]},\n {'name': 'Gross energy production - Hydropower',\n  'unit': '%',\n  'values': [{'year': 2010, 'value': 0.009942137411381417},\n   {'year': 2011, 'value': 0.02960381311266108},\n   {'year': 2012, 'value': 0.03720828515241123},\n   {'year': 2013, 'value': 0.020614589033276884},\n   {'year': 2014, 'value': 0.015254477563473616},\n   {'year': 2015, 'value': ''},\n   {'year': 2016, 'value': ''},\n   {'year': 2017, 'value': ''}]},\n {'name': 'Gross energy production - Other',\n  'unit': '%',\n  'values': [{'year': 2010, 'value': 0},\n   {'year': 2011, 'value': 0},\n   {'year': 2012, 'value': 0},\n   {'year': 2013, 'value': 7.263773369459159e-07},\n   {'year': 2014, 'value': 0},\n   {'year': 2015, 'value': ''},\n   {'year': 2016, 'value': ''},\n   {'year': 2017, 'value': ''}]}]"
     },
     "execution_count": 6,
     "metadata": {},
     "output_type": "execute_result"
    }
   ],
   "source": [
    "# item 1: energy indicators\n",
    "    # 1 is gross energy production\n",
    "    # 2-4 are fossil fuel prod\n",
    "    # 5 is nuclear\n",
    "    # 6 is gross eprod renewables\n",
    "    # 7-10 are solar, wind, hydro, other energy prod\n",
    "[mena_json['countries'][0]['subject'][1]['indicator'][sec] for sec in range(10)]"
   ],
   "metadata": {
    "collapsed": false
   }
  },
  {
   "cell_type": "code",
   "execution_count": 7,
   "outputs": [
    {
     "data": {
      "text/plain": "[{'name': 'Cost of electricity',\n  'unit': '$/kWh',\n  'values': [{'year': 2010, 'value': ''},\n   {'year': 2011, 'value': ''},\n   {'year': 2012, 'value': 0.2016},\n   {'year': 2013, 'value': 0.2157},\n   {'year': 2014, 'value': 0.1984},\n   {'year': 2015, 'value': 0.1563},\n   {'year': 2016, 'value': 0.1184},\n   {'year': 2017, 'value': ''}]},\n {'name': 'Electricity price',\n  'unit': '$/kWh',\n  'values': [{'year': 2010, 'value': ''},\n   {'year': 2011, 'value': ''},\n   {'year': 2012, 'value': 0.03868},\n   {'year': 2013, 'value': 0.04012},\n   {'year': 2014, 'value': 0.04014},\n   {'year': 2015, 'value': 0.03229},\n   {'year': 2016, 'value': 0.03964},\n   {'year': 2017, 'value': ''}]}]"
     },
     "execution_count": 7,
     "metadata": {},
     "output_type": "execute_result"
    }
   ],
   "source": [
    "# item 4: electricity indicators\n",
    "    # 8 is kWh consumption per capita\n",
    "    # 9 is cost of elec per kWh\n",
    "[mena_json['countries'][0]['subject'][4]['indicator'][sec] for sec in (8, 9)]"
   ],
   "metadata": {
    "collapsed": false
   }
  },
  {
   "cell_type": "markdown",
   "source": [
    "## Restructuring dataset to something mongo will accept\n",
    "\"Operation passed in cannot be an Array\""
   ],
   "metadata": {
    "collapsed": false
   }
  },
  {
   "cell_type": "code",
   "execution_count": 8,
   "outputs": [
    {
     "name": "stdout",
     "output_type": "stream",
     "text": [
      "inserted algeria into collection.\n",
      "inserted bahrain into collection.\n",
      "inserted egypt into collection.\n",
      "inserted iraq into collection.\n",
      "inserted jordan into collection.\n",
      "inserted kuwait into collection.\n",
      "inserted lebanon into collection.\n",
      "inserted libya into collection.\n",
      "inserted morocco into collection.\n",
      "inserted oman into collection.\n",
      "inserted qatar into collection.\n",
      "inserted saudi arabia into collection.\n",
      "inserted syria into collection.\n",
      "inserted tunisia into collection.\n",
      "inserted uae into collection.\n",
      "inserted west bank and gaza into collection.\n",
      "inserted yemen into collection.\n"
     ]
    }
   ],
   "source": [
    "# connect to db for this assignment\n",
    "client = pymongo.MongoClient(\"mongodb://localhost:27017/\")\n",
    "db = client.hw3\n",
    "# create collection for country docs\n",
    "countries = client.countries\n",
    "# add each country doc to the collection\n",
    "for country in mena_json['countries']:\n",
    "    db.countries.insert_one(country)\n",
    "    print(f'inserted {country[\"name\"]} into collection.')"
   ],
   "metadata": {
    "collapsed": false
   }
  },
  {
   "cell_type": "markdown",
   "source": [
    "## Exploring the data: motivating questions\n",
    "1. Which countries in the dataset have the greatest percentage of their total energy output as solar energy?"
   ],
   "metadata": {
    "collapsed": false
   }
  },
  {
   "cell_type": "code",
   "execution_count": 9,
   "outputs": [
    {
     "data": {
      "text/plain": "{'name': 'Gross energy production - Solar',\n 'unit': '%',\n 'values': [{'year': 2010, 'value': 0},\n  {'year': 2011, 'value': 0},\n  {'year': 2012, 'value': 0},\n  {'year': 2013, 'value': 0},\n  {'year': 2014, 'value': 0},\n  {'year': 2015, 'value': ''},\n  {'year': 2016, 'value': ''},\n  {'year': 2017, 'value': ''}]}"
     },
     "execution_count": 9,
     "metadata": {},
     "output_type": "execute_result"
    }
   ],
   "source": [
    "mena_json['countries'][0]['subject'][1]['indicator'][6]"
   ],
   "metadata": {
    "collapsed": false
   }
  },
  {
   "cell_type": "code",
   "execution_count": 10,
   "outputs": [
    {
     "data": {
      "text/plain": "[{'_id': 'jordan', 'maxSolarProduction': 58.33045692677052},\n {'_id': 'lebanon', 'maxSolarProduction': 15.153580203689925},\n {'_id': 'tunisia', 'maxSolarProduction': 0.6787589293911857},\n {'_id': 'uae', 'maxSolarProduction': 0.034140968315127765},\n {'_id': 'egypt', 'maxSolarProduction': 0.026434563845563263},\n {'_id': 'saudi arabia', 'maxSolarProduction': 1.3995593650078733e-05},\n {'_id': 'qatar', 'maxSolarProduction': 0},\n {'_id': 'bahrain', 'maxSolarProduction': 0},\n {'_id': 'morocco', 'maxSolarProduction': 0},\n {'_id': 'libya', 'maxSolarProduction': 0},\n {'_id': 'kuwait', 'maxSolarProduction': 0},\n {'_id': 'syria', 'maxSolarProduction': 0},\n {'_id': 'yemen', 'maxSolarProduction': 0},\n {'_id': 'oman', 'maxSolarProduction': 0},\n {'_id': 'iraq', 'maxSolarProduction': 0},\n {'_id': 'algeria', 'maxSolarProduction': 0}]"
     },
     "execution_count": 10,
     "metadata": {},
     "output_type": "execute_result"
    }
   ],
   "source": [
    "# 1. Which countries in the dataset have the most solar energy output?\n",
    "# drill down to get solar amounts per country!\n",
    "most_solar = db.countries.aggregate([\n",
    "    {\n",
    "        # expand elements of subject list for each country\n",
    "        \"$unwind\": \"$subject\"\n",
    "    },\n",
    "    {\n",
    "        # extract 'energy indicators' subject\n",
    "        \"$match\": {\n",
    "            \"subject.type\": \"energy indicators\"\n",
    "        }\n",
    "    },\n",
    "    {\n",
    "        # expand elements of indicator list for this subject type\n",
    "        \"$unwind\": \"$subject.indicator\"\n",
    "    },\n",
    "    {\n",
    "        # extract 'Gross energy production - Solar' indicator\n",
    "        \"$match\": {\n",
    "            \"subject.indicator.name\": \"Gross energy production - Solar\"\n",
    "        }\n",
    "    },\n",
    "    {\n",
    "        # expand elements of year list for this indicator\n",
    "        \"$unwind\": \"$subject.indicator.values\"\n",
    "    },\n",
    "    {\n",
    "        # exclude years with empty string as value\n",
    "        \"$match\": {\"subject.indicator.values.value\": {\"$ne\": \"\"}}\n",
    "    },\n",
    "    {\n",
    "        # for each country, get the max value for annual solar energy production\n",
    "        \"$group\": {\n",
    "            \"_id\": \"$name\",\n",
    "            \"maxSolarProduction\": {\"$max\": \"$subject.indicator.values.value\"}\n",
    "        }\n",
    "    },\n",
    "    {\n",
    "        \"$sort\": {\n",
    "            \"maxSolarProduction\": -1\n",
    "        }\n",
    "    }\n",
    "])\n",
    "\n",
    "[country for country in most_solar]"
   ],
   "metadata": {
    "collapsed": false
   }
  },
  {
   "cell_type": "markdown",
   "source": [
    "\n",
    "2. Which countries in the dataset have the lowest energy usage per capita?\n",
    "- note: TOE is \"tonne of oil equivalent\" and the figures are per capita per year"
   ],
   "metadata": {
    "collapsed": false
   }
  },
  {
   "cell_type": "code",
   "execution_count": 11,
   "outputs": [
    {
     "data": {
      "text/plain": "{'name': 'Energy use per capita',\n 'unit': 'toe',\n 'values': [{'year': 2010, 'value': 0.7358203107658158},\n  {'year': 2011, 'value': 0.7528700163398693},\n  {'year': 2012, 'value': 0.8144358974358974},\n  {'year': 2013, 'value': 0.8351275202932705},\n  {'year': 2014, 'value': 0.8995416388389418},\n  {'year': 2015, 'value': ''},\n  {'year': 2016, 'value': ''},\n  {'year': 2017, 'value': ''}]}"
     },
     "execution_count": 11,
     "metadata": {},
     "output_type": "execute_result"
    }
   ],
   "source": [
    "mena_json['countries'][0]['subject'][1]['indicator'][30]"
   ],
   "metadata": {
    "collapsed": false
   }
  },
  {
   "cell_type": "code",
   "execution_count": 12,
   "outputs": [
    {
     "data": {
      "text/plain": "[{'_id': 'yemen', 'toePerCapita': 0.23276952604778692},\n {'_id': 'morocco', 'toePerCapita': 0.43197437841115827},\n {'_id': 'syria', 'toePerCapita': 0.6535419401544401},\n {'_id': 'egypt', 'toePerCapita': 0.660383410908223},\n {'_id': 'tunisia', 'toePerCapita': 0.70396},\n {'_id': 'jordan', 'toePerCapita': 0.7496350500715308},\n {'_id': 'iraq', 'toePerCapita': 0.7868724211165048},\n {'_id': 'lebanon', 'toePerCapita': 0.8898365853658536},\n {'_id': 'algeria', 'toePerCapita': 0.8995416388389418},\n {'_id': 'libya', 'toePerCapita': 2.1118398724082934},\n {'_id': 'bahrain', 'toePerCapita': 4.495690161527166},\n {'_id': 'saudi arabia', 'toePerCapita': 4.586784525736484},\n {'_id': 'oman', 'toePerCapita': 4.768878873239437},\n {'_id': 'kuwait', 'toePerCapita': 4.996120760233918},\n {'_id': 'uae', 'toePerCapita': 5.558555370985603},\n {'_id': 'qatar', 'toePerCapita': 8.554577419354839}]"
     },
     "execution_count": 12,
     "metadata": {},
     "output_type": "execute_result"
    }
   ],
   "source": [
    "least_usage_pc = db.countries.aggregate([\n",
    "    {\n",
    "        # expand elements of subject list for each country\n",
    "        \"$unwind\": \"$subject\"\n",
    "    },\n",
    "    {\n",
    "        # extract 'energy indicators' subject\n",
    "        \"$match\": {\n",
    "            \"subject.type\": \"energy indicators\"\n",
    "        }\n",
    "    },\n",
    "    {\n",
    "        # expand elements of indicator list for this subject type\n",
    "        \"$unwind\": \"$subject.indicator\"\n",
    "    },\n",
    "    {\n",
    "        # extract energy use per capita indicator\n",
    "        \"$match\": {\n",
    "            \"subject.indicator.name\": \"Energy use per capita\"\n",
    "        }\n",
    "    },\n",
    "    {\n",
    "        # expand elements of year list for this indicator\n",
    "        \"$unwind\": \"$subject.indicator.values\"\n",
    "    },\n",
    "    {\n",
    "        # exclude years with empty string as value\n",
    "        \"$match\": {\"subject.indicator.values.value\": {\"$ne\": \"\"}}\n",
    "    },\n",
    "    {\n",
    "        # for each country, get the max value for annual solar energy production\n",
    "        \"$group\": {\n",
    "            \"_id\": \"$name\",\n",
    "            \"toePerCapita\": {\"$max\": \"$subject.indicator.values.value\"}\n",
    "        }\n",
    "    },\n",
    "    {\n",
    "        \"$sort\": {\n",
    "            \"toePerCapita\": 1\n",
    "        }\n",
    "    }\n",
    "])\n",
    "\n",
    "[country for country in least_usage_pc]"
   ],
   "metadata": {
    "collapsed": false
   }
  },
  {
   "cell_type": "markdown",
   "source": [
    "3. Which countries have the most diverse range of energy generation solutions?"
   ],
   "metadata": {
    "collapsed": false
   }
  },
  {
   "cell_type": "code",
   "execution_count": 13,
   "outputs": [
    {
     "data": {
      "text/plain": "['Gross energy production',\n 'Gross energy production - Crude Oil and Oil Products',\n 'Gross energy production - Natural Gas',\n 'Gross energy production - Coal',\n 'Gross energy production - Nuclear',\n 'Gross energy production - Renewables',\n 'Gross energy production - Solar',\n 'Gross energy production - Wind',\n 'Gross energy production - Hydropower',\n 'Gross energy production - Other']"
     },
     "execution_count": 13,
     "metadata": {},
     "output_type": "execute_result"
    }
   ],
   "source": [
    "[indicator['name'] for indicator in mena_json['countries'][0]['subject'][1]['indicator']][:10]"
   ],
   "metadata": {
    "collapsed": false
   }
  },
  {
   "cell_type": "code",
   "execution_count": 14,
   "outputs": [
    {
     "data": {
      "text/plain": "[{'_id': 'tunisia',\n  'energyGenerators': ['Gross energy production - Solar',\n   'Gross energy production - Wind',\n   'Gross energy production - Renewables',\n   'Gross energy production - Natural Gas',\n   'Gross energy production - Hydropower',\n   'Gross energy production - Crude Oil and Oil Products',\n   'Gross energy production - Other']},\n {'_id': 'bahrain',\n  'energyGenerators': ['Gross energy production - Other',\n   'Gross energy production - Crude Oil and Oil Products',\n   'Gross energy production - Natural Gas']},\n {'_id': 'algeria',\n  'energyGenerators': ['Gross energy production - Crude Oil and Oil Products',\n   'Gross energy production - Natural Gas',\n   'Gross energy production - Hydropower',\n   'Gross energy production - Renewables',\n   'Gross energy production - Other']},\n {'_id': 'qatar',\n  'energyGenerators': ['Gross energy production - Natural Gas',\n   'Gross energy production - Crude Oil and Oil Products',\n   'Gross energy production - Other']},\n {'_id': 'iraq',\n  'energyGenerators': ['Gross energy production - Hydropower',\n   'Gross energy production - Crude Oil and Oil Products',\n   'Gross energy production - Natural Gas',\n   'Gross energy production - Other',\n   'Gross energy production - Renewables']},\n {'_id': 'oman',\n  'energyGenerators': ['Gross energy production - Natural Gas',\n   'Gross energy production - Other',\n   'Gross energy production - Crude Oil and Oil Products']},\n {'_id': 'yemen',\n  'energyGenerators': ['Gross energy production - Natural Gas',\n   'Gross energy production - Crude Oil and Oil Products',\n   'Gross energy production - Renewables']},\n {'_id': 'uae',\n  'energyGenerators': ['Gross energy production - Other',\n   'Gross energy production - Solar',\n   'Gross energy production - Natural Gas',\n   'Gross energy production - Crude Oil and Oil Products',\n   'Gross energy production - Renewables']},\n {'_id': 'syria',\n  'energyGenerators': ['Gross energy production - Crude Oil and Oil Products',\n   'Gross energy production - Natural Gas',\n   'Gross energy production - Hydropower',\n   'Gross energy production - Renewables']},\n {'_id': 'saudi arabia',\n  'energyGenerators': ['Gross energy production - Natural Gas',\n   'Gross energy production - Other',\n   'Gross energy production - Solar',\n   'Gross energy production - Renewables',\n   'Gross energy production - Crude Oil and Oil Products']},\n {'_id': 'kuwait',\n  'energyGenerators': ['Gross energy production - Other',\n   'Gross energy production - Natural Gas',\n   'Gross energy production - Crude Oil and Oil Products']},\n {'_id': 'egypt',\n  'energyGenerators': ['Gross energy production - Solar',\n   'Gross energy production - Crude Oil and Oil Products',\n   'Gross energy production - Renewables',\n   'Gross energy production - Natural Gas',\n   'Gross energy production - Other',\n   'Gross energy production - Wind',\n   'Gross energy production - Hydropower']},\n {'_id': 'jordan',\n  'energyGenerators': ['Gross energy production - Crude Oil and Oil Products',\n   'Gross energy production - Other',\n   'Gross energy production - Solar',\n   'Gross energy production - Natural Gas',\n   'Gross energy production - Hydropower',\n   'Gross energy production - Renewables',\n   'Gross energy production - Wind']},\n {'_id': 'libya',\n  'energyGenerators': ['Gross energy production - Crude Oil and Oil Products',\n   'Gross energy production - Natural Gas',\n   'Gross energy production - Renewables']},\n {'_id': 'morocco',\n  'energyGenerators': ['Gross energy production - Wind',\n   'Gross energy production - Natural Gas',\n   'Gross energy production - Renewables',\n   'Gross energy production - Hydropower',\n   'Gross energy production - Crude Oil and Oil Products']},\n {'_id': 'lebanon',\n  'energyGenerators': ['Gross energy production - Renewables',\n   'Gross energy production - Solar',\n   'Gross energy production - Hydropower']}]"
     },
     "execution_count": 14,
     "metadata": {},
     "output_type": "execute_result"
    }
   ],
   "source": [
    "most_diverse_renewables = db.countries.aggregate([\n",
    "    {\n",
    "        # expand elements of subject list for each country\n",
    "        \"$unwind\": \"$subject\"\n",
    "    },\n",
    "    {\n",
    "        # extract 'energy indicators' subject\n",
    "        \"$match\": {\n",
    "            \"subject.type\": \"energy indicators\"\n",
    "        }\n",
    "    },\n",
    "    {\n",
    "        # expand elements of indicator list for this subject type\n",
    "        \"$unwind\": \"$subject.indicator\"\n",
    "    },\n",
    "    {\n",
    "        # extract 'Gross energy production - Solar' indicator\n",
    "        \"$match\": {\n",
    "            \"subject.indicator.name\": {\"$regex\": \"^Gross energy production -*\"}\n",
    "        }\n",
    "    },\n",
    "    {\n",
    "        # expand elements of year list for this indicator\n",
    "        \"$unwind\": \"$subject.indicator.values\"\n",
    "    },\n",
    "    {\n",
    "        # exclude years with empty string as value\n",
    "        \"$match\": {\"subject.indicator.values.value\": {\"$ne\": \"\"}}\n",
    "        # and-ing didn't work: {\"$and\": [{\"$ne\": \"\"}, {\"$ne\": 0}]}\n",
    "    },\n",
    "    {\n",
    "        # exclude years with empty string as value\n",
    "        \"$match\": {\"subject.indicator.values.value\": {\"$ne\": 0}}\n",
    "    },\n",
    "    {\n",
    "        # rewind all non-zero, non-empty energy prod methods for each country\n",
    "        \"$group\": {\n",
    "            \"_id\": {\n",
    "                \"country\": \"$name\",\n",
    "                \"energy production method\": \"$subject.indicator.name\"\n",
    "            },\n",
    "            \"energyGenerator\": {\"$first\": \"$subject.indicator.name\"}\n",
    "        }\n",
    "    },\n",
    "\n",
    "    {\n",
    "        # for each country, list the unique energy production methods (using self-defined agg fields above)\n",
    "        \"$group\": {\n",
    "            \"_id\": \"$_id.country\",\n",
    "            \"energyGenerators\": {\"$push\": \"$energyGenerator\"}\n",
    "        }\n",
    "    },\n",
    "])\n",
    "\n",
    "# TODO if i have extra time: get substrings to exclude common prefix, rank methods by output, and include numbers for each\n",
    "[country for country in most_diverse_renewables]"
   ],
   "metadata": {
    "collapsed": false
   }
  },
  {
   "cell_type": "markdown",
   "source": [
    "4. Which countries have the lowest recorded average electricity cost? (note: lots of missing data, taking mean of any data present for each country's price per kWh)"
   ],
   "metadata": {
    "collapsed": false
   }
  },
  {
   "cell_type": "code",
   "execution_count": 15,
   "outputs": [
    {
     "data": {
      "text/plain": "[{'_id': 'oman', 'costPer_kWh': 0.06578},\n {'_id': 'uae', 'costPer_kWh': 0.103},\n {'_id': 'qatar', 'costPer_kWh': 0.1151},\n {'_id': 'kuwait', 'costPer_kWh': 0.1295},\n {'_id': 'tunisia', 'costPer_kWh': 0.13778030842250014},\n {'_id': 'algeria', 'costPer_kWh': 0.17808},\n {'_id': 'saudi arabia', 'costPer_kWh': 0.21329999999999996}]"
     },
     "execution_count": 15,
     "metadata": {},
     "output_type": "execute_result"
    }
   ],
   "source": [
    "cost_per_kwh = db.countries.aggregate([\n",
    "    {\n",
    "        # expand elements of subject list for each country\n",
    "        \"$unwind\": \"$subject\"\n",
    "    },\n",
    "    {\n",
    "        # extract 'energy indicators' subject\n",
    "        \"$match\": {\n",
    "            \"subject.type\": \"electricity indicators\"\n",
    "        }\n",
    "    },\n",
    "    {\n",
    "        # expand elements of indicator list for this subject type\n",
    "        \"$unwind\": \"$subject.indicator\"\n",
    "    },\n",
    "    {\n",
    "        # extract 'Gross energy production - Solar' indicator\n",
    "        \"$match\": {\n",
    "            \"subject.indicator.name\": \"Cost of electricity\"\n",
    "        }\n",
    "    },\n",
    "    {\n",
    "        # expand elements of year list for this indicator\n",
    "        \"$unwind\": \"$subject.indicator.values\"\n",
    "    },\n",
    "    {\n",
    "        # exclude years with empty string as value\n",
    "        \"$match\": {\"subject.indicator.values.value\": {\"$ne\": \"\"}}\n",
    "    },\n",
    "    {\n",
    "        # exclude years with empty string as value\n",
    "        \"$match\": {\"subject.indicator.values.value\": {\"$ne\": 0}}\n",
    "    },\n",
    "    {\n",
    "        # for each country, get the mean value for energy cost per kWh\n",
    "        \"$group\": {\n",
    "            \"_id\": \"$name\",\n",
    "            \"costPer_kWh\": {\"$avg\": \"$subject.indicator.values.value\"}\n",
    "        }\n",
    "    },\n",
    "    {\n",
    "        \"$sort\": {\n",
    "            \"costPer_kWh\": 1\n",
    "        }\n",
    "    }\n",
    "])\n",
    "\n",
    "[country for country in cost_per_kwh]"
   ],
   "metadata": {
    "collapsed": false
   }
  },
  {
   "cell_type": "markdown",
   "source": [
    "5. Which countries have not invested in solar at all? (assume that no data and zero are equivalent)"
   ],
   "metadata": {
    "collapsed": false
   }
  },
  {
   "cell_type": "code",
   "execution_count": 16,
   "outputs": [
    {
     "data": {
      "text/plain": "[{'_id': 'syria', 'no_solar': ''},\n {'_id': 'uae', 'no_solar': ''},\n {'_id': 'yemen', 'no_solar': ''},\n {'_id': 'oman', 'no_solar': ''},\n {'_id': 'iraq', 'no_solar': ''},\n {'_id': 'algeria', 'no_solar': ''},\n {'_id': 'bahrain', 'no_solar': ''},\n {'_id': 'qatar', 'no_solar': ''},\n {'_id': 'tunisia', 'no_solar': ''},\n {'_id': 'lebanon', 'no_solar': ''},\n {'_id': 'morocco', 'no_solar': ''},\n {'_id': 'libya', 'no_solar': ''},\n {'_id': 'west bank and gaza', 'no_solar': ''},\n {'_id': 'egypt', 'no_solar': ''},\n {'_id': 'jordan', 'no_solar': ''},\n {'_id': 'kuwait', 'no_solar': ''},\n {'_id': 'saudi arabia', 'no_solar': ''}]"
     },
     "execution_count": 16,
     "metadata": {},
     "output_type": "execute_result"
    }
   ],
   "source": [
    "no_solar = db.countries.aggregate([\n",
    "    {\n",
    "        # expand elements of subject list for each country\n",
    "        \"$unwind\": \"$subject\"\n",
    "    },\n",
    "    {\n",
    "        # extract 'energy indicators' subject\n",
    "        \"$match\": {\n",
    "            \"subject.type\": \"energy indicators\"\n",
    "        }\n",
    "    },\n",
    "    {\n",
    "        # expand elements of indicator list for this subject type\n",
    "        \"$unwind\": \"$subject.indicator\"\n",
    "    },\n",
    "    {\n",
    "        # extract 'Gross energy production - Solar' indicator\n",
    "        \"$match\": {\n",
    "            \"subject.indicator.name\": \"Gross energy production - Solar\"\n",
    "        }\n",
    "    },\n",
    "    {\n",
    "        # expand elements of year list for this indicator\n",
    "        \"$unwind\": \"$subject.indicator.values\"\n",
    "    },\n",
    "    {\n",
    "        # exclude years with empty string as value\n",
    "        \"$match\": {\"$or\":\n",
    "            [\n",
    "            {\"subject.indicator.values.value\": {\"$eq\": \"\"}},\n",
    "            {\"subject.indicator.values.value\": {\"$eq\": 0}}\n",
    "            ]\n",
    "        }\n",
    "    },\n",
    "\n",
    "    {\n",
    "        # for each country, get the max value for annual solar energy production\n",
    "        \"$group\": {\n",
    "            \"_id\": \"$name\",\n",
    "            \"no_solar\": {\"$max\": \"$subject.indicator.values.value\"}\n",
    "        }\n",
    "    },\n",
    "    {\n",
    "        \"$sort\": {\n",
    "            \"no_solar\": 1\n",
    "        }\n",
    "    }\n",
    "])\n",
    "\n",
    "[country for country in no_solar]"
   ],
   "metadata": {
    "collapsed": false
   }
  },
  {
   "cell_type": "markdown",
   "source": [],
   "metadata": {
    "collapsed": false
   }
  },
  {
   "cell_type": "markdown",
   "source": [
    "6. which countries has experienced the greatest increase in renewables (measures as a percent increase)?"
   ],
   "metadata": {
    "collapsed": false
   }
  },
  {
   "cell_type": "code",
   "execution_count": 17,
   "outputs": [
    {
     "data": {
      "text/plain": "[{'_id': 'jordan',\n  'min_gpr': 49.574014323103064,\n  'max_gpr': 62.223577329314026,\n  'diff_renewables': 12.649563006210961},\n {'_id': 'tunisia',\n  'min_gpr': 13.215865058801754,\n  'max_gpr': 17.421956137328102,\n  'diff_renewables': 4.206091078526349},\n {'_id': 'syria',\n  'min_gpr': 0.8285816430336242,\n  'max_gpr': 4.699126103018552,\n  'diff_renewables': 3.8705444599849272},\n {'_id': 'morocco',\n  'min_gpr': 94.93433768735109,\n  'max_gpr': 97.17498285626148,\n  'diff_renewables': 2.2406451689103903},\n {'_id': 'egypt',\n  'min_gpr': 3.3845212693472475,\n  'max_gpr': 3.825001246003533,\n  'diff_renewables': 0.44047997665628547},\n {'_id': 'libya',\n  'min_gpr': 0.15077244777020282,\n  'max_gpr': 0.4773023313106763,\n  'diff_renewables': 0.32652988354047346},\n {'_id': 'yemen',\n  'min_gpr': 0.5351124652651305,\n  'max_gpr': 0.7275874812992533,\n  'diff_renewables': 0.19247501603412287},\n {'_id': 'iraq',\n  'min_gpr': 0.18184859499263575,\n  'max_gpr': 0.360879145043363,\n  'diff_renewables': 0.17903055005072724},\n {'_id': 'uae',\n  'min_gpr': 0,\n  'max_gpr': 0.034140968315127765,\n  'diff_renewables': 0.034140968315127765},\n {'_id': 'algeria',\n  'min_gpr': 0.019440310676248785,\n  'max_gpr': 0.048038558834887925,\n  'diff_renewables': 0.02859824815863914},\n {'_id': 'saudi arabia',\n  'min_gpr': 0,\n  'max_gpr': 1.3995593650078733e-05,\n  'diff_renewables': 1.3995593650078733e-05},\n {'_id': 'oman', 'min_gpr': 0, 'max_gpr': 0, 'diff_renewables': 0},\n {'_id': 'bahrain', 'min_gpr': 0, 'max_gpr': 0, 'diff_renewables': 0},\n {'_id': 'qatar', 'min_gpr': 0, 'max_gpr': 0, 'diff_renewables': 0},\n {'_id': 'lebanon', 'min_gpr': 100, 'max_gpr': 100, 'diff_renewables': 0},\n {'_id': 'kuwait', 'min_gpr': 0, 'max_gpr': 0, 'diff_renewables': 0}]"
     },
     "execution_count": 17,
     "metadata": {},
     "output_type": "execute_result"
    }
   ],
   "source": [
    "greatest_increase_solar = db.countries.aggregate([\n",
    "    {\n",
    "        # expand elements of subject list for each country\n",
    "        \"$unwind\": \"$subject\"\n",
    "    },\n",
    "    {\n",
    "        # extract 'energy indicators' subject\n",
    "        \"$match\": {\n",
    "            \"subject.type\": \"energy indicators\"\n",
    "        }\n",
    "    },\n",
    "    {\n",
    "        # expand elements of indicator list for this subject type\n",
    "        \"$unwind\": \"$subject.indicator\"\n",
    "    },\n",
    "    {\n",
    "        # extract 'Gross energy production - Solar' indicator\n",
    "        \"$match\": {\n",
    "            \"subject.indicator.name\": \"Gross energy production - Renewables\"\n",
    "        }\n",
    "    },\n",
    "    {\n",
    "        # expand elements of year list for this indicator\n",
    "        \"$unwind\": \"$subject.indicator.values\"\n",
    "    },\n",
    "    {\n",
    "        # exclude years with empty string as value\n",
    "        \"$match\": {\"subject.indicator.values.value\": {\"$ne\": \"\"}}\n",
    "    },\n",
    "    {\n",
    "        \"$group\": {\n",
    "            \"_id\": \"$name\",\n",
    "            # agg yearly gross production of renewables estimates into min/max per country\n",
    "            \"min_gpr\": {\"$min\": \"$subject.indicator.values.value\"},\n",
    "            \"max_gpr\": {\"$max\": \"$subject.indicator.values.value\"}\n",
    "        }\n",
    "    },\n",
    "    {\n",
    "        \"$addFields\": {\n",
    "            \"diff_renewables\": {\n",
    "                \"$subtract\": [\"$max_gpr\", \"$min_gpr\"]\n",
    "            },\n",
    "        }\n",
    "    },\n",
    "    {\n",
    "        \"$sort\": {\n",
    "            \"diff_renewables\": -1\n",
    "        }\n",
    "    }\n",
    "])\n",
    "\n",
    "[country for country in greatest_increase_solar]"
   ],
   "metadata": {
    "collapsed": false
   }
  },
  {
   "cell_type": "markdown",
   "source": [
    "7. which countries has experienced the greatest decrease in fossil fuels (measures as a percent decrease)?"
   ],
   "metadata": {
    "collapsed": false
   }
  },
  {
   "cell_type": "code",
   "execution_count": 18,
   "outputs": [
    {
     "data": {
      "text/plain": "['Gross energy production',\n 'Gross energy production - Crude Oil and Oil Products',\n 'Gross energy production - Natural Gas',\n 'Gross energy production - Coal',\n 'Gross energy production - Nuclear',\n 'Gross energy production - Renewables',\n 'Gross energy production - Solar',\n 'Gross energy production - Wind',\n 'Gross energy production - Hydropower',\n 'Gross energy production - Other']"
     },
     "execution_count": 18,
     "metadata": {},
     "output_type": "execute_result"
    }
   ],
   "source": [
    "[indicator['name'] for indicator in mena_json['countries'][0]['subject'][1]['indicator']][:10]"
   ],
   "metadata": {
    "collapsed": false
   }
  },
  {
   "cell_type": "code",
   "execution_count": 19,
   "outputs": [
    {
     "data": {
      "text/plain": "[{'_id': 'syria',\n  'ff_agg_min': 50.26239000017762,\n  'ff_agg_max': 143.88757934908725,\n  'ff_decrease_pct': 93.62518934890963},\n {'_id': 'yemen',\n  'ff_agg_min': 75.05867210200753,\n  'ff_agg_max': 123.69683239348643,\n  'ff_decrease_pct': 48.6381602914789},\n {'_id': 'libya',\n  'ff_agg_min': 83.0315467078108,\n  'ff_agg_max': 116.37350445196225,\n  'ff_decrease_pct': 33.34195774415144},\n {'_id': 'jordan',\n  'ff_agg_min': 37.755932876214075,\n  'ff_agg_max': 50.44276474157611,\n  'ff_decrease_pct': 12.686831865362038},\n {'_id': 'qatar',\n  'ff_agg_min': 95.29806585378168,\n  'ff_agg_max': 104.70193414621832,\n  'ff_decrease_pct': 9.403868292436641},\n {'_id': 'egypt',\n  'ff_agg_min': 92.57821640973447,\n  'ff_agg_max': 99.94372052468847,\n  'ff_decrease_pct': 7.365504114954007},\n {'_id': 'tunisia',\n  'ff_agg_min': 80.16216526356604,\n  'ff_agg_max': 86.62491638961389,\n  'ff_decrease_pct': 6.4627511260478485},\n {'_id': 'algeria',\n  'ff_agg_min': 97.2244835153301,\n  'ff_agg_max': 102.6868374831465,\n  'ff_decrease_pct': 5.462353967816398},\n {'_id': 'bahrain',\n  'ff_agg_min': 97.59159542044196,\n  'ff_agg_max': 102.40839954975013,\n  'ff_decrease_pct': 4.816804129308167},\n {'_id': 'oman',\n  'ff_agg_min': 97.98976062236514,\n  'ff_agg_max': 102.01023937763486,\n  'ff_decrease_pct': 4.020478755269721},\n {'_id': 'uae',\n  'ff_agg_min': 98.01622620512128,\n  'ff_agg_max': 101.9496328265636,\n  'ff_decrease_pct': 3.933406621442316},\n {'_id': 'morocco',\n  'ff_agg_min': 2.6044416289734813,\n  'ff_agg_max': 5.332561330709434,\n  'ff_decrease_pct': 2.728119701735953},\n {'_id': 'saudi arabia',\n  'ff_agg_min': 99.02290172907342,\n  'ff_agg_max': 100.97709825148522,\n  'ff_decrease_pct': 1.9541965224117916},\n {'_id': 'iraq',\n  'ff_agg_min': 98.83010359525325,\n  'ff_agg_max': 100.72795914591822,\n  'ff_decrease_pct': 1.8978555506649712},\n {'_id': 'kuwait',\n  'ff_agg_min': 99.30113931867318,\n  'ff_agg_max': 100.69885993814324,\n  'ff_decrease_pct': 1.3977206194700642},\n {'_id': 'lebanon', 'ff_agg_min': 0, 'ff_agg_max': 0, 'ff_decrease_pct': 0}]"
     },
     "execution_count": 19,
     "metadata": {},
     "output_type": "execute_result"
    }
   ],
   "source": [
    "greatest_decrease_ff = db.countries.aggregate([\n",
    "    {\n",
    "        # expand elements of subject list for each country\n",
    "        \"$unwind\": \"$subject\"\n",
    "    },\n",
    "    {\n",
    "        # extract 'energy indicators' subject\n",
    "        \"$match\": {\n",
    "            \"subject.type\": \"energy indicators\"\n",
    "        }\n",
    "    },\n",
    "    {\n",
    "        # expand elements of indicator list for this subject type\n",
    "        \"$unwind\": \"$subject.indicator\"\n",
    "    },\n",
    "    {\n",
    "        # retain all (and only) the fossil fuel indicators\n",
    "        \"$match\": {\n",
    "            \"$or\": [\n",
    "                {\"subject.indicator.name\": \"Gross energy production - Crude Oil and Oil Products\"},\n",
    "                {\"subject.indicator.name\": \"Gross energy production - Natural Gas\"},\n",
    "                {\"subject.indicator.name\": \"Gross energy production - Coal\"},\n",
    "            ]\n",
    "        }\n",
    "    },\n",
    "    {\n",
    "        # expand elements of year list for this indicator\n",
    "        \"$unwind\": \"$subject.indicator.values\"\n",
    "    },\n",
    "    {\n",
    "        # exclude years with empty string as value\n",
    "        \"$match\": {\"subject.indicator.values.value\": {\"$ne\": \"\"}}\n",
    "    },\n",
    "    {\n",
    "        \"$group\": {\n",
    "            \"_id\": {\n",
    "                \"country\": \"$name\",\n",
    "                \"energy_production_method\": \"$subject.indicator.name\"\n",
    "            },\n",
    "            # agg yearly percentage values for each indicator's values\n",
    "            \"min_pct\": {\"$min\": \"$subject.indicator.values.value\"},\n",
    "            \"max_pct\": {\"$max\": \"$subject.indicator.values.value\"}\n",
    "        }\n",
    "    },\n",
    "    {\n",
    "        # group by country, sum mins and maxes of groups per country\n",
    "        \"$group\": {\n",
    "            \"_id\": \"$_id.country\",\n",
    "            # sum mins and maxes for different fossil fuel types to get a ff agg\n",
    "            \"ff_agg_min\": {\"$sum\": \"$min_pct\"},\n",
    "            \"ff_agg_max\": {\"$sum\": \"$max_pct\"}\n",
    "        }\n",
    "    },\n",
    "    {\n",
    "        # add new field of fossil fuel agg diffs\n",
    "        \"$addFields\": {\n",
    "            \"ff_decrease_pct\": {\n",
    "                \"$subtract\": [\"$ff_agg_max\", \"$ff_agg_min\"]\n",
    "            },\n",
    "        }\n",
    "    },\n",
    "    {\n",
    "        \"$sort\": {\n",
    "            \"ff_decrease_pct\": -1\n",
    "        }\n",
    "    }\n",
    "])\n",
    "\n",
    "# some output values are quite different from what I expected to be - likely an issue with summing min and max percentages\n",
    "[country for country in greatest_decrease_ff]"
   ],
   "metadata": {
    "collapsed": false
   }
  },
  {
   "cell_type": "markdown",
   "source": [
    "8. Which year saw the greatest average decrease in cost per kWh in these countries?\n",
    "9. Which countries have the greatest ratio of renewable energy production to crude oil production?\n",
    "10. Which countries are producing the most fossil fuels per capita (annual ouput divided by population)?"
   ],
   "metadata": {
    "collapsed": false
   }
  },
  {
   "cell_type": "markdown",
   "source": [
    "## Datavis question\n",
    "1. what's the relationship between co2 per capita and GDP per capita? add point for each country on a 2-axis plot\n",
    "\n",
    "and is it equivalent to the provided emissions intensity?\n",
    "economic indicators ->\n",
    "'name': 'CO2 emissions intensity',\n",
    "'unit': 'kg/$1000 of GDP',"
   ],
   "metadata": {
    "collapsed": false
   }
  },
  {
   "cell_type": "code",
   "execution_count": 20,
   "outputs": [
    {
     "data": {
      "text/plain": "[{'_id': 'qatar', 'avg_co2_pc_tons': 40.236666666666665},\n {'_id': 'kuwait', 'avg_co2_pc_tons': 26.241666666666667},\n {'_id': 'uae', 'avg_co2_pc_tons': 20.91},\n {'_id': 'oman', 'avg_co2_pc_tons': 19.871666666666666},\n {'_id': 'saudi arabia', 'avg_co2_pc_tons': 15.436666666666667},\n {'_id': 'bahrain', 'avg_co2_pc_tons': 15.395000000000001},\n {'_id': 'libya', 'avg_co2_pc_tons': 8.323333333333332},\n {'_id': 'iraq', 'avg_co2_pc_tons': 4.283333333333333},\n {'_id': 'lebanon', 'avg_co2_pc_tons': 4.175000000000001},\n {'_id': 'algeria', 'avg_co2_pc_tons': 3.4483333333333333},\n {'_id': 'jordan', 'avg_co2_pc_tons': 3.0933333333333333},\n {'_id': 'syria', 'avg_co2_pc_tons': 2.586666666666667},\n {'_id': 'egypt', 'avg_co2_pc_tons': 2.5566666666666666},\n {'_id': 'tunisia', 'avg_co2_pc_tons': 2.393333333333333},\n {'_id': 'morocco', 'avg_co2_pc_tons': 1.6716666666666666},\n {'_id': 'yemen', 'avg_co2_pc_tons': 1.0766666666666667}]"
     },
     "execution_count": 20,
     "metadata": {},
     "output_type": "execute_result"
    }
   ],
   "source": [
    "# retrieving co2 per capita\n",
    "co2_per_capita = db.countries.aggregate([\n",
    "    {\n",
    "        # expand elements of subject list for each country\n",
    "        \"$unwind\": \"$subject\"\n",
    "    },\n",
    "    {\n",
    "        # extract 'energy indicators' subject\n",
    "        \"$match\": {\n",
    "            \"subject.type\": \"economic indicators\"\n",
    "        }\n",
    "    },\n",
    "    {\n",
    "        # expand elements of indicator list for this subject type\n",
    "        \"$unwind\": \"$subject.indicator\"\n",
    "    },\n",
    "    {\n",
    "        # extract 'Gross energy production - Solar' indicator\n",
    "        \"$match\": {\n",
    "            \"subject.indicator.name\": \"CO2 emissions per capita\"\n",
    "        }\n",
    "    },\n",
    "    {\n",
    "        # expand elements of year list for this indicator\n",
    "        \"$unwind\": \"$subject.indicator.values\"\n",
    "    },\n",
    "    {\n",
    "        # exclude years with empty string as value\n",
    "        \"$match\": {\"subject.indicator.values.value\": {\"$ne\": \"\"}}\n",
    "    },\n",
    "    {\n",
    "        # exclude years with zero as value to avoid sandbagging avg\n",
    "        \"$match\": {\"subject.indicator.values.value\": {\"$ne\": 0}}\n",
    "    },\n",
    "    {\n",
    "        # for each country, get the avg value for annual co2 emissions per capita\n",
    "        \"$group\": {\n",
    "            \"_id\": \"$name\",\n",
    "            \"avg_co2_pc_tons\": {\"$avg\": \"$subject.indicator.values.value\"}\n",
    "        }\n",
    "    },\n",
    "    {\n",
    "        \"$sort\": {\n",
    "            \"avg_co2_pc_tons\": -1\n",
    "        }\n",
    "    }\n",
    "])\n",
    "\n",
    "co2_pc_list = [country for country in co2_per_capita]\n",
    "co2_pc_list"
   ],
   "metadata": {
    "collapsed": false
   }
  },
  {
   "cell_type": "code",
   "execution_count": 21,
   "outputs": [
    {
     "data": {
      "text/plain": "[{'_id': 'qatar', 'avg_gdp_per_capita': 85974.71428571429},\n {'_id': 'uae', 'avg_gdp_per_capita': 40105.0},\n {'_id': 'kuwait', 'avg_gdp_per_capita': 37058.142857142855},\n {'_id': 'bahrain', 'avg_gdp_per_capita': 24397.714285714286},\n {'_id': 'saudi arabia', 'avg_gdp_per_capita': 22523.714285714286},\n {'_id': 'oman', 'avg_gdp_per_capita': 20112.0},\n {'_id': 'lebanon', 'avg_gdp_per_capita': 10288.0},\n {'_id': 'libya', 'avg_gdp_per_capita': 8765.142857142857},\n {'_id': 'iraq', 'avg_gdp_per_capita': 5651.285714285715},\n {'_id': 'algeria', 'avg_gdp_per_capita': 4960.714285714285},\n {'_id': 'jordan', 'avg_gdp_per_capita': 4612.714285714285},\n {'_id': 'tunisia', 'avg_gdp_per_capita': 4120.142857142857},\n {'_id': 'egypt', 'avg_gdp_per_capita': 3317.3333333333335},\n {'_id': 'morocco', 'avg_gdp_per_capita': 3109.4285714285716},\n {'_id': 'syria', 'avg_gdp_per_capita': 2807.0},\n {'_id': 'west bank and gaza', 'avg_gdp_per_capita': 2768.3333333333335},\n {'_id': 'yemen', 'avg_gdp_per_capita': 1328.4285714285713}]"
     },
     "execution_count": 21,
     "metadata": {},
     "output_type": "execute_result"
    }
   ],
   "source": [
    "# retrieving GDP per capita\n",
    "gdp_per_capita = db.countries.aggregate([\n",
    "    {\n",
    "        # expand elements of subject list for each country\n",
    "        \"$unwind\": \"$subject\"\n",
    "    },\n",
    "    {\n",
    "        # extract 'energy indicators' subject\n",
    "        \"$match\": {\n",
    "            \"subject.type\": \"economic indicators\"\n",
    "        }\n",
    "    },\n",
    "    {\n",
    "        # expand elements of indicator list for this subject type\n",
    "        \"$unwind\": \"$subject.indicator\"\n",
    "    },\n",
    "    {\n",
    "        # extract 'Gross energy production - Solar' indicator\n",
    "        \"$match\": {\n",
    "            \"subject.indicator.name\": \"GDP per capita\"\n",
    "        }\n",
    "    },\n",
    "    {\n",
    "        # expand elements of year list for this indicator\n",
    "        \"$unwind\": \"$subject.indicator.values\"\n",
    "    },\n",
    "    {\n",
    "        # exclude years with empty string as value\n",
    "        \"$match\": {\"subject.indicator.values.value\": {\"$ne\": \"\"}}\n",
    "    },\n",
    "    {\n",
    "        # exclude years with zero as value to avoid sandbagging avg\n",
    "        \"$match\": {\"subject.indicator.values.value\": {\"$ne\": 0}}\n",
    "    },\n",
    "    {\n",
    "        # for each country, get the avg value for GDP per capita\n",
    "        \"$group\": {\n",
    "            \"_id\": \"$name\",\n",
    "            \"avg_gdp_per_capita\": {\"$avg\": \"$subject.indicator.values.value\"}\n",
    "        }\n",
    "    },\n",
    "    {\n",
    "        \"$sort\": {\n",
    "            \"avg_gdp_per_capita\": -1\n",
    "        }\n",
    "    }\n",
    "])\n",
    "\n",
    "gdp_pc_list = [country for country in gdp_per_capita]\n",
    "gdp_pc_list"
   ],
   "metadata": {
    "collapsed": false
   }
  },
  {
   "cell_type": "markdown",
   "source": [
    "## I ran out of time to do the visualization but the data is here\n",
    "## there's a clear positive correlation between co2 per capita and GDP per capita in these nations - depressing but real"
   ],
   "metadata": {
    "collapsed": false
   }
  },
  {
   "cell_type": "code",
   "execution_count": 22,
   "outputs": [
    {
     "data": {
      "text/plain": "[{'qatar': 85974.71428571429},\n {'uae': 40105.0},\n {'kuwait': 37058.142857142855},\n {'bahrain': 24397.714285714286},\n {'saudi arabia': 22523.714285714286},\n {'oman': 20112.0},\n {'lebanon': 10288.0},\n {'libya': 8765.142857142857},\n {'iraq': 5651.285714285715},\n {'algeria': 4960.714285714285},\n {'jordan': 4612.714285714285},\n {'tunisia': 4120.142857142857},\n {'egypt': 3317.3333333333335},\n {'morocco': 3109.4285714285716},\n {'syria': 2807.0},\n {'west bank and gaza': 2768.3333333333335},\n {'yemen': 1328.4285714285713}]"
     },
     "execution_count": 22,
     "metadata": {},
     "output_type": "execute_result"
    }
   ],
   "source": [
    "import matplotlib.pyplot as plt\n",
    "\n",
    "# co2_pc_list\n",
    "[{country['_id']: country['avg_gdp_per_capita']} for country in gdp_pc_list]"
   ],
   "metadata": {
    "collapsed": false
   }
  }
 ],
 "metadata": {
  "kernelspec": {
   "display_name": "Python 3",
   "language": "python",
   "name": "python3"
  },
  "language_info": {
   "codemirror_mode": {
    "name": "ipython",
    "version": 2
   },
   "file_extension": ".py",
   "mimetype": "text/x-python",
   "name": "python",
   "nbconvert_exporter": "python",
   "pygments_lexer": "ipython2",
   "version": "2.7.6"
  }
 },
 "nbformat": 4,
 "nbformat_minor": 0
}
