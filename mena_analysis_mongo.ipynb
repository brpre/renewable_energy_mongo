{
 "cells": [
  {
   "cell_type": "code",
   "execution_count": 1,
   "metadata": {
    "collapsed": true
   },
   "outputs": [],
   "source": [
    "import requests\n",
    "import pymongo"
   ]
  },
  {
   "cell_type": "markdown",
   "source": [
    "### Info on dataset and source\n",
    "[link to source on energydata.info website!](https://energydata.info/dataset/mena-energy-indicators-2017)\n",
    "\n",
    "\"Various indicators for MENA countries to get an overview of the countries energy and economic profiles. The indicators are organized in 6 categories: economic indicators, energy indicators, oil indicators, gas indicators, electricity indicators & energy efficiency indicators. Each indicator includes name, unit, year, and value for that year. Main sources are the World Bank Group, the IMF, KNOEMA aggregating platform and EIA.\""
   ],
   "metadata": {
    "collapsed": false
   }
  },
  {
   "cell_type": "code",
   "execution_count": 2,
   "outputs": [
    {
     "data": {
      "text/plain": "<Response [200]>"
     },
     "execution_count": 2,
     "metadata": {},
     "output_type": "execute_result"
    }
   ],
   "source": [
    "mena_resp = requests.get('https://development-data-hub-s3-public.s3.amazonaws.com/ddhfiles/145369/pa-retp-indicators.json')\n",
    "mena_json = mena_resp.json()\n",
    "mena_resp"
   ],
   "metadata": {
    "collapsed": false
   }
  },
  {
   "cell_type": "code",
   "execution_count": 3,
   "outputs": [
    {
     "data": {
      "text/plain": "['algeria',\n 'bahrain',\n 'egypt',\n 'iraq',\n 'jordan',\n 'kuwait',\n 'lebanon',\n 'libya',\n 'morocco',\n 'oman',\n 'qatar',\n 'saudi arabia',\n 'syria',\n 'tunisia',\n 'uae',\n 'west bank and gaza',\n 'yemen']"
     },
     "execution_count": 3,
     "metadata": {},
     "output_type": "execute_result"
    }
   ],
   "source": [
    "# list all countries found in this json list\n",
    "[mena_json['countries'][country]['name'] for country in range(len(mena_json['countries']))]"
   ],
   "metadata": {
    "collapsed": false
   }
  },
  {
   "cell_type": "code",
   "execution_count": 4,
   "outputs": [
    {
     "data": {
      "text/plain": "['economic indicators',\n 'energy indicators',\n 'oil indicators',\n 'gas indicators',\n 'electricity indicators',\n 'energy efficiency indicators']"
     },
     "execution_count": 4,
     "metadata": {},
     "output_type": "execute_result"
    }
   ],
   "source": [
    "# show all data categories for\n",
    "[item['type'] for item in mena_json['countries'][0]['subject']]"
   ],
   "metadata": {
    "collapsed": false
   }
  },
  {
   "cell_type": "code",
   "execution_count": 5,
   "outputs": [
    {
     "data": {
      "text/plain": "[{'name': 'GDP per capita',\n  'unit': 'US $',\n  'values': [{'year': 2010, 'value': 4481},\n   {'year': 2011, 'value': 5431},\n   {'year': 2012, 'value': 5574},\n   {'year': 2013, 'value': 5476},\n   {'year': 2014, 'value': 5459},\n   {'year': 2015, 'value': 4175},\n   {'year': 2016, 'value': 4129},\n   {'year': 2017, 'value': ''}]},\n {'name': 'Population',\n  'unit': 'million',\n  'values': [{'year': 2010, 'value': 36.04},\n   {'year': 2011, 'value': 36.72},\n   {'year': 2012, 'value': 37.44},\n   {'year': 2013, 'value': 38.19},\n   {'year': 2014, 'value': 38.93},\n   {'year': 2015, 'value': 39.67},\n   {'year': 2016, 'value': 40.38},\n   {'year': 2017, 'value': ''}]},\n {'name': 'Human Development Index',\n  'unit': '',\n  'values': [{'year': 2010, 'value': 0.71},\n   {'year': 2011, 'value': 0.72},\n   {'year': 2012, 'value': 0.72},\n   {'year': 2013, 'value': 0.72},\n   {'year': 2014, 'value': 0.74},\n   {'year': 2015, 'value': ''},\n   {'year': 2016, 'value': ''},\n   {'year': 2017, 'value': ''}]},\n {'name': 'CO2 emissions intensity',\n  'unit': 'kg/$1000 of GDP',\n  'values': [{'year': 2010, 'value': 246.88},\n   {'year': 2011, 'value': 251.46},\n   {'year': 2012, 'value': 259.52},\n   {'year': 2013, 'value': 258.53},\n   {'year': 2014, 'value': 268.36},\n   {'year': 2015, 'value': 269.37},\n   {'year': 2016, 'value': ''},\n   {'year': 2017, 'value': ''}]},\n {'name': 'CO2 emissions per capita',\n  'unit': 'metric tons',\n  'values': [{'year': 2010, 'value': 3.18},\n   {'year': 2011, 'value': 3.28},\n   {'year': 2012, 'value': 3.43},\n   {'year': 2013, 'value': 3.44},\n   {'year': 2014, 'value': 3.64},\n   {'year': 2015, 'value': 3.72},\n   {'year': 2016, 'value': ''},\n   {'year': 2017, 'value': ''}]}]"
     },
     "execution_count": 5,
     "metadata": {},
     "output_type": "execute_result"
    }
   ],
   "source": [
    "# item 0: economic indicators\n",
    "    # 3 is gdp per capita\n",
    "    # 5 is pop\n",
    "    # 7 is HDI\n",
    "    # 13 is co2 em itensity\n",
    "    # 14 is co2 per capita\n",
    "econ_indics = [3, 5, 7, 13, 14]\n",
    "[mena_json['countries'][0]['subject'][0]['indicator'][sec] for sec in econ_indics]"
   ],
   "metadata": {
    "collapsed": false
   }
  },
  {
   "cell_type": "code",
   "execution_count": 6,
   "outputs": [
    {
     "data": {
      "text/plain": "[{'name': 'Gross energy production',\n  'unit': 'ktoe',\n  'values': [{'year': 2010, 'value': 150510.895},\n   {'year': 2011, 'value': 145832.565},\n   {'year': 2012, 'value': 143763.68},\n   {'year': 2013, 'value': 137669.492},\n   {'year': 2014, 'value': 143197.3},\n   {'year': 2015, 'value': ''},\n   {'year': 2016, 'value': ''},\n   {'year': 2017, 'value': ''}]},\n {'name': 'Gross energy production - Crude Oil and Oil Products',\n  'unit': '%',\n  'values': [{'year': 2010, 'value': 52.15272223316458},\n   {'year': 2011, 'value': 52.25005539743472},\n   {'year': 2012, 'value': 49.515179355453334},\n   {'year': 2013, 'value': 49.92558990484253},\n   {'year': 2014, 'value': 50.96184564932439},\n   {'year': 2015, 'value': ''},\n   {'year': 2016, 'value': ''},\n   {'year': 2017, 'value': ''}]},\n {'name': 'Gross energy production - Natural Gas',\n  'unit': '%',\n  'values': [{'year': 2010, 'value': 47.80292217383998},\n   {'year': 2011, 'value': 47.70930415987677},\n   {'year': 2012, 'value': 50.43678208571178},\n   {'year': 2013, 'value': 50.03787113560353},\n   {'year': 2014, 'value': 49.01871403999937},\n   {'year': 2015, 'value': ''},\n   {'year': 2016, 'value': ''},\n   {'year': 2017, 'value': ''}]},\n {'name': 'Gross energy production - Coal',\n  'unit': '%',\n  'values': [{'year': 2010, 'value': 0},\n   {'year': 2011, 'value': 0},\n   {'year': 2012, 'value': 0},\n   {'year': 2013, 'value': 0},\n   {'year': 2014, 'value': 0},\n   {'year': 2015, 'value': ''},\n   {'year': 2016, 'value': ''},\n   {'year': 2017, 'value': ''}]},\n {'name': 'Gross energy production - Nuclear',\n  'unit': '%',\n  'values': [{'year': 2010, 'value': 0},\n   {'year': 2011, 'value': 0},\n   {'year': 2012, 'value': 0},\n   {'year': 2013, 'value': 0},\n   {'year': 2014, 'value': 0},\n   {'year': 2015, 'value': ''},\n   {'year': 2016, 'value': ''},\n   {'year': 2017, 'value': ''}]},\n {'name': 'Gross energy production - Renewables',\n  'unit': '%',\n  'values': [{'year': 2010, 'value': 0.044355592995443956},\n   {'year': 2011, 'value': 0.04064044268850377},\n   {'year': 2012, 'value': 0.048038558834887925},\n   {'year': 2013, 'value': 0.0365382331765995},\n   {'year': 2014, 'value': 0.019440310676248785},\n   {'year': 2015, 'value': ''},\n   {'year': 2016, 'value': ''},\n   {'year': 2017, 'value': ''}]},\n {'name': 'Gross energy production - Solar',\n  'unit': '%',\n  'values': [{'year': 2010, 'value': 0},\n   {'year': 2011, 'value': 0},\n   {'year': 2012, 'value': 0},\n   {'year': 2013, 'value': 0},\n   {'year': 2014, 'value': 0},\n   {'year': 2015, 'value': ''},\n   {'year': 2016, 'value': ''},\n   {'year': 2017, 'value': ''}]},\n {'name': 'Gross energy production - Wind',\n  'unit': '%',\n  'values': [{'year': 2010, 'value': 0},\n   {'year': 2011, 'value': 0},\n   {'year': 2012, 'value': 0},\n   {'year': 2013, 'value': 0},\n   {'year': 2014, 'value': 0},\n   {'year': 2015, 'value': ''},\n   {'year': 2016, 'value': ''},\n   {'year': 2017, 'value': ''}]},\n {'name': 'Gross energy production - Hydropower',\n  'unit': '%',\n  'values': [{'year': 2010, 'value': 0.009942137411381417},\n   {'year': 2011, 'value': 0.02960381311266108},\n   {'year': 2012, 'value': 0.03720828515241123},\n   {'year': 2013, 'value': 0.020614589033276884},\n   {'year': 2014, 'value': 0.015254477563473616},\n   {'year': 2015, 'value': ''},\n   {'year': 2016, 'value': ''},\n   {'year': 2017, 'value': ''}]},\n {'name': 'Gross energy production - Other',\n  'unit': '%',\n  'values': [{'year': 2010, 'value': 0},\n   {'year': 2011, 'value': 0},\n   {'year': 2012, 'value': 0},\n   {'year': 2013, 'value': 7.263773369459159e-07},\n   {'year': 2014, 'value': 0},\n   {'year': 2015, 'value': ''},\n   {'year': 2016, 'value': ''},\n   {'year': 2017, 'value': ''}]}]"
     },
     "execution_count": 6,
     "metadata": {},
     "output_type": "execute_result"
    }
   ],
   "source": [
    "# item 1: energy indicators\n",
    "    # 1 is gross energy production\n",
    "    # 2-4 are fossil fuel prod\n",
    "    # 5 is nuclear\n",
    "    # 6 is gross eprod renewables\n",
    "    # 7-10 are solar, wind, hydro, other energy prod\n",
    "[mena_json['countries'][0]['subject'][1]['indicator'][sec] for sec in range(10)]"
   ],
   "metadata": {
    "collapsed": false
   }
  },
  {
   "cell_type": "code",
   "execution_count": 7,
   "outputs": [
    {
     "data": {
      "text/plain": "[{'name': 'Cost of electricity',\n  'unit': '$/kWh',\n  'values': [{'year': 2010, 'value': ''},\n   {'year': 2011, 'value': ''},\n   {'year': 2012, 'value': 0.2016},\n   {'year': 2013, 'value': 0.2157},\n   {'year': 2014, 'value': 0.1984},\n   {'year': 2015, 'value': 0.1563},\n   {'year': 2016, 'value': 0.1184},\n   {'year': 2017, 'value': ''}]},\n {'name': 'Electricity price',\n  'unit': '$/kWh',\n  'values': [{'year': 2010, 'value': ''},\n   {'year': 2011, 'value': ''},\n   {'year': 2012, 'value': 0.03868},\n   {'year': 2013, 'value': 0.04012},\n   {'year': 2014, 'value': 0.04014},\n   {'year': 2015, 'value': 0.03229},\n   {'year': 2016, 'value': 0.03964},\n   {'year': 2017, 'value': ''}]}]"
     },
     "execution_count": 7,
     "metadata": {},
     "output_type": "execute_result"
    }
   ],
   "source": [
    "# item 4: electricity indicators\n",
    "    # 8 is kWh consumption per capita\n",
    "    # 9 is cost of elec per kWh\n",
    "[mena_json['countries'][0]['subject'][4]['indicator'][sec] for sec in (8, 9)]"
   ],
   "metadata": {
    "collapsed": false
   }
  },
  {
   "cell_type": "markdown",
   "source": [
    "## Restructuring dataset to something mongo will accept\n",
    "\"Operation passed in cannot be an Array\""
   ],
   "metadata": {
    "collapsed": false
   }
  },
  {
   "cell_type": "code",
   "execution_count": 8,
   "outputs": [
    {
     "name": "stdout",
     "output_type": "stream",
     "text": [
      "inserted algeria into collection.\n",
      "inserted bahrain into collection.\n",
      "inserted egypt into collection.\n",
      "inserted iraq into collection.\n",
      "inserted jordan into collection.\n",
      "inserted kuwait into collection.\n",
      "inserted lebanon into collection.\n",
      "inserted libya into collection.\n",
      "inserted morocco into collection.\n",
      "inserted oman into collection.\n",
      "inserted qatar into collection.\n",
      "inserted saudi arabia into collection.\n",
      "inserted syria into collection.\n",
      "inserted tunisia into collection.\n",
      "inserted uae into collection.\n",
      "inserted west bank and gaza into collection.\n",
      "inserted yemen into collection.\n"
     ]
    }
   ],
   "source": [
    "# connect to db for this assignment\n",
    "client = pymongo.MongoClient(\"mongodb://localhost:27017/\")\n",
    "db = client.hw3\n",
    "# create collection for country docs\n",
    "countries = client.countries\n",
    "# add each country doc to the collection\n",
    "for country in mena_json['countries']:\n",
    "    db.countries.insert_one(country)\n",
    "    print(f'inserted {country[\"name\"]} into collection.')"
   ],
   "metadata": {
    "collapsed": false
   }
  },
  {
   "cell_type": "markdown",
   "source": [
    "## Exploring the data: motivating questions\n",
    "1. Which countries in the dataset have the greatest percentage of their total energy output as solar energy?"
   ],
   "metadata": {
    "collapsed": false
   }
  },
  {
   "cell_type": "code",
   "execution_count": 9,
   "outputs": [
    {
     "data": {
      "text/plain": "{'name': 'Gross energy production - Solar',\n 'unit': '%',\n 'values': [{'year': 2010, 'value': 0},\n  {'year': 2011, 'value': 0},\n  {'year': 2012, 'value': 0},\n  {'year': 2013, 'value': 0},\n  {'year': 2014, 'value': 0},\n  {'year': 2015, 'value': ''},\n  {'year': 2016, 'value': ''},\n  {'year': 2017, 'value': ''}]}"
     },
     "execution_count": 9,
     "metadata": {},
     "output_type": "execute_result"
    }
   ],
   "source": [
    "mena_json['countries'][0]['subject'][1]['indicator'][6]"
   ],
   "metadata": {
    "collapsed": false
   }
  },
  {
   "cell_type": "code",
   "execution_count": 10,
   "outputs": [
    {
     "data": {
      "text/plain": "[{'_id': 'jordan', 'maxSolarProduction': 58.33045692677052},\n {'_id': 'lebanon', 'maxSolarProduction': 15.153580203689925},\n {'_id': 'tunisia', 'maxSolarProduction': 0.6787589293911857},\n {'_id': 'uae', 'maxSolarProduction': 0.034140968315127765},\n {'_id': 'egypt', 'maxSolarProduction': 0.026434563845563263},\n {'_id': 'saudi arabia', 'maxSolarProduction': 1.3995593650078733e-05},\n {'_id': 'oman', 'maxSolarProduction': 0},\n {'_id': 'iraq', 'maxSolarProduction': 0},\n {'_id': 'yemen', 'maxSolarProduction': 0},\n {'_id': 'bahrain', 'maxSolarProduction': 0},\n {'_id': 'algeria', 'maxSolarProduction': 0},\n {'_id': 'libya', 'maxSolarProduction': 0},\n {'_id': 'qatar', 'maxSolarProduction': 0},\n {'_id': 'morocco', 'maxSolarProduction': 0},\n {'_id': 'kuwait', 'maxSolarProduction': 0},\n {'_id': 'syria', 'maxSolarProduction': 0}]"
     },
     "execution_count": 10,
     "metadata": {},
     "output_type": "execute_result"
    }
   ],
   "source": [
    "# 1. Which countries in the dataset have the most solar energy output?\n",
    "# drill down to get solar amounts per country!\n",
    "most_solar = db.countries.aggregate([\n",
    "    {\n",
    "        # expand elements of subject list for each country\n",
    "        \"$unwind\": \"$subject\"\n",
    "    },\n",
    "    {\n",
    "        # extract 'energy indicators' subject\n",
    "        \"$match\": {\n",
    "            \"subject.type\": \"energy indicators\"\n",
    "        }\n",
    "    },\n",
    "    {\n",
    "        # expand elements of indicator list for this subject type\n",
    "        \"$unwind\": \"$subject.indicator\"\n",
    "    },\n",
    "    {\n",
    "        # extract 'Gross energy production - Solar' indicator\n",
    "        \"$match\": {\n",
    "            \"subject.indicator.name\": \"Gross energy production - Solar\"\n",
    "        }\n",
    "    },\n",
    "    {\n",
    "        # expand elements of year list for this indicator\n",
    "        \"$unwind\": \"$subject.indicator.values\"\n",
    "    },\n",
    "    {\n",
    "        # exclude years with empty string as value\n",
    "        \"$match\": {\"subject.indicator.values.value\": {\"$ne\": \"\"}}\n",
    "    },\n",
    "    {\n",
    "        # for each country, get the max value for annual solar energy production\n",
    "        \"$group\": {\n",
    "            \"_id\": \"$name\",\n",
    "            \"maxSolarProduction\": {\"$max\": \"$subject.indicator.values.value\"}\n",
    "        }\n",
    "    },\n",
    "    {\n",
    "        \"$sort\": {\n",
    "            \"maxSolarProduction\": -1\n",
    "        }\n",
    "    }\n",
    "])\n",
    "\n",
    "[country for country in most_solar]"
   ],
   "metadata": {
    "collapsed": false
   }
  },
  {
   "cell_type": "markdown",
   "source": [
    "\n",
    "2. Which countries in the dataset have the lowest energy usage per capita?\n",
    "- note: TOE is \"tonne of oil equivalent\" and the figures are per capita per year"
   ],
   "metadata": {
    "collapsed": false
   }
  },
  {
   "cell_type": "code",
   "execution_count": 11,
   "outputs": [
    {
     "data": {
      "text/plain": "{'name': 'Energy use per capita',\n 'unit': 'toe',\n 'values': [{'year': 2010, 'value': 0.7358203107658158},\n  {'year': 2011, 'value': 0.7528700163398693},\n  {'year': 2012, 'value': 0.8144358974358974},\n  {'year': 2013, 'value': 0.8351275202932705},\n  {'year': 2014, 'value': 0.8995416388389418},\n  {'year': 2015, 'value': ''},\n  {'year': 2016, 'value': ''},\n  {'year': 2017, 'value': ''}]}"
     },
     "execution_count": 11,
     "metadata": {},
     "output_type": "execute_result"
    }
   ],
   "source": [
    "mena_json['countries'][0]['subject'][1]['indicator'][30]"
   ],
   "metadata": {
    "collapsed": false
   }
  },
  {
   "cell_type": "code",
   "execution_count": 12,
   "outputs": [
    {
     "data": {
      "text/plain": "[{'_id': 'yemen', 'toePerCapita': 0.23276952604778692},\n {'_id': 'morocco', 'toePerCapita': 0.43197437841115827},\n {'_id': 'syria', 'toePerCapita': 0.6535419401544401},\n {'_id': 'egypt', 'toePerCapita': 0.660383410908223},\n {'_id': 'tunisia', 'toePerCapita': 0.70396},\n {'_id': 'jordan', 'toePerCapita': 0.7496350500715308},\n {'_id': 'iraq', 'toePerCapita': 0.7868724211165048},\n {'_id': 'lebanon', 'toePerCapita': 0.8898365853658536},\n {'_id': 'algeria', 'toePerCapita': 0.8995416388389418},\n {'_id': 'libya', 'toePerCapita': 2.1118398724082934},\n {'_id': 'bahrain', 'toePerCapita': 4.495690161527166},\n {'_id': 'saudi arabia', 'toePerCapita': 4.586784525736484},\n {'_id': 'oman', 'toePerCapita': 4.768878873239437},\n {'_id': 'kuwait', 'toePerCapita': 4.996120760233918},\n {'_id': 'uae', 'toePerCapita': 5.558555370985603},\n {'_id': 'qatar', 'toePerCapita': 8.554577419354839}]"
     },
     "execution_count": 12,
     "metadata": {},
     "output_type": "execute_result"
    }
   ],
   "source": [
    "least_usage_pc = db.countries.aggregate([\n",
    "    {\n",
    "        # expand elements of subject list for each country\n",
    "        \"$unwind\": \"$subject\"\n",
    "    },\n",
    "    {\n",
    "        # extract 'energy indicators' subject\n",
    "        \"$match\": {\n",
    "            \"subject.type\": \"energy indicators\"\n",
    "        }\n",
    "    },\n",
    "    {\n",
    "        # expand elements of indicator list for this subject type\n",
    "        \"$unwind\": \"$subject.indicator\"\n",
    "    },\n",
    "    {\n",
    "        # extract 'Gross energy production - Solar' indicator\n",
    "        \"$match\": {\n",
    "            \"subject.indicator.name\": \"Energy use per capita\"\n",
    "        }\n",
    "    },\n",
    "    {\n",
    "        # expand elements of year list for this indicator\n",
    "        \"$unwind\": \"$subject.indicator.values\"\n",
    "    },\n",
    "    {\n",
    "        # exclude years with empty string as value\n",
    "        \"$match\": {\"subject.indicator.values.value\": {\"$ne\": \"\"}}\n",
    "    },\n",
    "    {\n",
    "        # for each country, get the max value for annual solar energy production\n",
    "        \"$group\": {\n",
    "            \"_id\": \"$name\",\n",
    "            \"toePerCapita\": {\"$max\": \"$subject.indicator.values.value\"}\n",
    "        }\n",
    "    },\n",
    "    {\n",
    "        \"$sort\": {\n",
    "            \"toePerCapita\": 1\n",
    "        }\n",
    "    }\n",
    "])\n",
    "\n",
    "[country for country in least_usage_pc]"
   ],
   "metadata": {
    "collapsed": false
   }
  },
  {
   "cell_type": "markdown",
   "source": [
    "3. Which countries have the most diverse range of energy generation solutions?"
   ],
   "metadata": {
    "collapsed": false
   }
  },
  {
   "cell_type": "code",
   "execution_count": 13,
   "outputs": [
    {
     "data": {
      "text/plain": "['Gross energy production',\n 'Gross energy production - Crude Oil and Oil Products',\n 'Gross energy production - Natural Gas',\n 'Gross energy production - Coal',\n 'Gross energy production - Nuclear',\n 'Gross energy production - Renewables',\n 'Gross energy production - Solar',\n 'Gross energy production - Wind',\n 'Gross energy production - Hydropower',\n 'Gross energy production - Other']"
     },
     "execution_count": 13,
     "metadata": {},
     "output_type": "execute_result"
    }
   ],
   "source": [
    "[indicator['name'] for indicator in mena_json['countries'][0]['subject'][1]['indicator']][:10]"
   ],
   "metadata": {
    "collapsed": false
   }
  },
  {
   "cell_type": "code",
   "execution_count": 14,
   "outputs": [
    {
     "data": {
      "text/plain": "[{'_id': 'tunisia',\n  'energyGenerators': ['Gross energy production - Solar',\n   'Gross energy production - Wind',\n   'Gross energy production - Natural Gas',\n   'Gross energy production - Renewables',\n   'Gross energy production - Hydropower',\n   'Gross energy production - Crude Oil and Oil Products',\n   'Gross energy production - Other']},\n {'_id': 'bahrain',\n  'energyGenerators': ['Gross energy production - Other',\n   'Gross energy production - Crude Oil and Oil Products',\n   'Gross energy production - Natural Gas']},\n {'_id': 'algeria',\n  'energyGenerators': ['Gross energy production - Crude Oil and Oil Products',\n   'Gross energy production - Natural Gas',\n   'Gross energy production - Hydropower',\n   'Gross energy production - Renewables',\n   'Gross energy production - Other']},\n {'_id': 'qatar',\n  'energyGenerators': ['Gross energy production - Natural Gas',\n   'Gross energy production - Other',\n   'Gross energy production - Crude Oil and Oil Products']},\n {'_id': 'iraq',\n  'energyGenerators': ['Gross energy production - Hydropower',\n   'Gross energy production - Crude Oil and Oil Products',\n   'Gross energy production - Natural Gas',\n   'Gross energy production - Other',\n   'Gross energy production - Renewables']},\n {'_id': 'oman',\n  'energyGenerators': ['Gross energy production - Natural Gas',\n   'Gross energy production - Other',\n   'Gross energy production - Crude Oil and Oil Products']},\n {'_id': 'yemen',\n  'energyGenerators': ['Gross energy production - Natural Gas',\n   'Gross energy production - Crude Oil and Oil Products',\n   'Gross energy production - Renewables']},\n {'_id': 'kuwait',\n  'energyGenerators': ['Gross energy production - Other',\n   'Gross energy production - Crude Oil and Oil Products',\n   'Gross energy production - Natural Gas']},\n {'_id': 'saudi arabia',\n  'energyGenerators': ['Gross energy production - Natural Gas',\n   'Gross energy production - Other',\n   'Gross energy production - Solar',\n   'Gross energy production - Renewables',\n   'Gross energy production - Crude Oil and Oil Products']},\n {'_id': 'uae',\n  'energyGenerators': ['Gross energy production - Other',\n   'Gross energy production - Solar',\n   'Gross energy production - Natural Gas',\n   'Gross energy production - Crude Oil and Oil Products',\n   'Gross energy production - Renewables']},\n {'_id': 'syria',\n  'energyGenerators': ['Gross energy production - Crude Oil and Oil Products',\n   'Gross energy production - Natural Gas',\n   'Gross energy production - Hydropower',\n   'Gross energy production - Renewables']},\n {'_id': 'jordan',\n  'energyGenerators': ['Gross energy production - Crude Oil and Oil Products',\n   'Gross energy production - Solar',\n   'Gross energy production - Other',\n   'Gross energy production - Natural Gas',\n   'Gross energy production - Hydropower',\n   'Gross energy production - Renewables',\n   'Gross energy production - Wind']},\n {'_id': 'egypt',\n  'energyGenerators': ['Gross energy production - Solar',\n   'Gross energy production - Crude Oil and Oil Products',\n   'Gross energy production - Renewables',\n   'Gross energy production - Natural Gas',\n   'Gross energy production - Other',\n   'Gross energy production - Wind',\n   'Gross energy production - Hydropower']},\n {'_id': 'libya',\n  'energyGenerators': ['Gross energy production - Crude Oil and Oil Products',\n   'Gross energy production - Natural Gas',\n   'Gross energy production - Renewables']},\n {'_id': 'morocco',\n  'energyGenerators': ['Gross energy production - Wind',\n   'Gross energy production - Natural Gas',\n   'Gross energy production - Renewables',\n   'Gross energy production - Crude Oil and Oil Products',\n   'Gross energy production - Hydropower']},\n {'_id': 'lebanon',\n  'energyGenerators': ['Gross energy production - Renewables',\n   'Gross energy production - Solar',\n   'Gross energy production - Hydropower']}]"
     },
     "execution_count": 14,
     "metadata": {},
     "output_type": "execute_result"
    }
   ],
   "source": [
    "most_diverse_renewables = db.countries.aggregate([\n",
    "    {\n",
    "        # expand elements of subject list for each country\n",
    "        \"$unwind\": \"$subject\"\n",
    "    },\n",
    "    {\n",
    "        # extract 'energy indicators' subject\n",
    "        \"$match\": {\n",
    "            \"subject.type\": \"energy indicators\"\n",
    "        }\n",
    "    },\n",
    "    {\n",
    "        # expand elements of indicator list for this subject type\n",
    "        \"$unwind\": \"$subject.indicator\"\n",
    "    },\n",
    "    {\n",
    "        # extract 'Gross energy production - Solar' indicator\n",
    "        \"$match\": {\n",
    "            \"subject.indicator.name\": {\"$regex\": \"^Gross energy production -*\"}\n",
    "        }\n",
    "    },\n",
    "    {\n",
    "        # expand elements of year list for this indicator\n",
    "        \"$unwind\": \"$subject.indicator.values\"\n",
    "    },\n",
    "    {\n",
    "        # exclude years with empty string as value\n",
    "        \"$match\": {\"subject.indicator.values.value\": {\"$ne\": \"\"}}\n",
    "        # and-ing didn't work: {\"$and\": [{\"$ne\": \"\"}, {\"$ne\": 0}]}\n",
    "    },\n",
    "    {\n",
    "        # exclude years with empty string as value\n",
    "        \"$match\": {\"subject.indicator.values.value\": {\"$ne\": 0}}\n",
    "    },\n",
    "    {\n",
    "        # rewind all non-zero, non-empty energy prod methods for each country\n",
    "        \"$group\": {\n",
    "            \"_id\": {\n",
    "                \"country\": \"$name\",\n",
    "                \"energy production method\": \"$subject.indicator.name\"\n",
    "            },\n",
    "            \"energyGenerator\": {\"$first\": \"$subject.indicator.name\"}\n",
    "        }\n",
    "    },\n",
    "\n",
    "    {\n",
    "        # for each country, list the unique energy production methods (using self-defined agg fields above)\n",
    "        \"$group\": {\n",
    "            \"_id\": \"$_id.country\",\n",
    "            \"energyGenerators\": {\"$push\": \"$energyGenerator\"}\n",
    "        }\n",
    "    },\n",
    "])\n",
    "\n",
    "# TODO if i have extra time: rank methods by output and include numbers for each\n",
    "[country for country in most_diverse_renewables]"
   ],
   "metadata": {
    "collapsed": false
   }
  },
  {
   "cell_type": "markdown",
   "source": [
    "4. Which countries have the lowest average electricty cost in 2012-2016? (note: can't divide by 5 because there's missing data, need to drop zeros and get mean of results)"
   ],
   "metadata": {
    "collapsed": false
   }
  },
  {
   "cell_type": "code",
   "execution_count": 14,
   "outputs": [],
   "source": [],
   "metadata": {
    "collapsed": false
   }
  },
  {
   "cell_type": "markdown",
   "source": [
    "\n",
    "5. which countries experienced the greatest YOY increase in renewables?\n",
    "6. Which countries have the greatest ratio of renewable energy production to crude oil production?\n",
    "7. Which countries have not invested in solar at all?\n",
    "8. Which year saw the greatest average increase in solar in these countries?\n",
    "9. Which year saw the greatest average decrease in cost per kWh in these countries?\n",
    "aggregations, filtering, sorting, etc.\n",
    "10. Which countries are producing the most fossil fuels per capita (annual ouput divided by population)?"
   ],
   "metadata": {
    "collapsed": false
   }
  },
  {
   "cell_type": "markdown",
   "source": [
    "## Datavis question\n",
    "1. what's the relationship between co2 per capita and GDP per capita? add point for each country on a 2-axis plot\n",
    "\n",
    "economic indicators ->\n",
    "'name': 'CO2 emissions intensity',\n",
    "'unit': 'kg/$1000 of GDP',\n",
    "\n",
    "\n",
    "Step 4. Programmatic Visualization. For at least one of your questions, write a program to query Mongo\n",
    "programmatically. I recommend PyMongo for this purpose, but you can use any language and libraries you like.\n",
    "(PyMongo is nice because JSON documents are returned as lists of dictionaries that are very easy to process.)\n",
    "Generate a visualization / plot of your result and provide an interpretation of your output, i.e., what does the\n",
    "visualization reveal about your dataset? Try to highlight something non-obvious."
   ],
   "metadata": {
    "collapsed": false
   }
  },
  {
   "cell_type": "code",
   "execution_count": 14,
   "outputs": [],
   "source": [],
   "metadata": {
    "collapsed": false
   }
  },
  {
   "cell_type": "markdown",
   "source": [
    "WHAT TO SUBMIT:\n",
    "1. A copy of your JSON-formatted dataset from Step 1 (.zipped)\n",
    "2. Questions, queries, and output that are the basis of your tutorial from Step 3.\n",
    "Please submit this in .PDF format – not a word-document.\n",
    "3. Code and your visualization for Step 4. Please format your figure as a .pdf, .png, or .jpg file."
   ],
   "metadata": {
    "collapsed": false
   }
  },
  {
   "cell_type": "code",
   "execution_count": 14,
   "outputs": [],
   "source": [],
   "metadata": {
    "collapsed": false
   }
  }
 ],
 "metadata": {
  "kernelspec": {
   "display_name": "Python 3",
   "language": "python",
   "name": "python3"
  },
  "language_info": {
   "codemirror_mode": {
    "name": "ipython",
    "version": 2
   },
   "file_extension": ".py",
   "mimetype": "text/x-python",
   "name": "python",
   "nbconvert_exporter": "python",
   "pygments_lexer": "ipython2",
   "version": "2.7.6"
  }
 },
 "nbformat": 4,
 "nbformat_minor": 0
}
