{
 "cells": [
  {
   "cell_type": "code",
   "execution_count": 1,
   "metadata": {
    "collapsed": true
   },
   "outputs": [],
   "source": [
    "import requests"
   ]
  },
  {
   "cell_type": "markdown",
   "source": [
    "### Info on dataset and source\n",
    "[link to source on energydata.info website!](https://energydata.info/dataset/mena-energy-indicators-2017)\n",
    "\n",
    "\"Various indicators for MENA countries to get an overview of the countries energy and economic profiles. The indicators are organized in 6 categories: economic indicators, energy indicators, oil indicators, gas indicators, electricity indicators & energy efficiency indicators. Each indicator includes name, unit, yearand value for that year. Format included are Excel spreasheet, CSV & JSON. Sources vary for each indicators, please look at the Excel spreadsheet for details. Main sources are the World Bank Group, the IMF, KNOEMA aggregating platform and EIA.\""
   ],
   "metadata": {
    "collapsed": false
   }
  },
  {
   "cell_type": "code",
   "execution_count": 2,
   "outputs": [
    {
     "data": {
      "text/plain": "<Response [200]>"
     },
     "execution_count": 2,
     "metadata": {},
     "output_type": "execute_result"
    }
   ],
   "source": [
    "mena_resp = requests.get('https://development-data-hub-s3-public.s3.amazonaws.com/ddhfiles/145369/pa-retp-indicators.json')\n",
    "mena_json = mena_resp.json()\n",
    "mena_resp"
   ],
   "metadata": {
    "collapsed": false
   }
  },
  {
   "cell_type": "code",
   "execution_count": 3,
   "outputs": [
    {
     "data": {
      "text/plain": "['algeria',\n 'bahrain',\n 'egypt',\n 'iraq',\n 'jordan',\n 'kuwait',\n 'lebanon',\n 'libya',\n 'morocco',\n 'oman',\n 'qatar',\n 'saudi arabia',\n 'syria',\n 'tunisia',\n 'uae',\n 'west bank and gaza',\n 'yemen']"
     },
     "execution_count": 3,
     "metadata": {},
     "output_type": "execute_result"
    }
   ],
   "source": [
    "# list all countries found in this json list\n",
    "[mena_json['countries'][country]['name'] for country in range(len(mena_json['countries']))]"
   ],
   "metadata": {
    "collapsed": false
   }
  },
  {
   "cell_type": "code",
   "execution_count": 4,
   "outputs": [
    {
     "data": {
      "text/plain": "['economic indicators',\n 'energy indicators',\n 'oil indicators',\n 'gas indicators',\n 'electricity indicators',\n 'energy efficiency indicators']"
     },
     "execution_count": 4,
     "metadata": {},
     "output_type": "execute_result"
    }
   ],
   "source": [
    "# show all data categories for\n",
    "[item['type'] for item in mena_json['countries'][0]['subject']]"
   ],
   "metadata": {
    "collapsed": false
   }
  },
  {
   "cell_type": "code",
   "execution_count": 5,
   "outputs": [
    {
     "data": {
      "text/plain": "[{'name': 'GDP per capita',\n  'unit': 'US $',\n  'values': [{'year': 2010, 'value': 4481},\n   {'year': 2011, 'value': 5431},\n   {'year': 2012, 'value': 5574},\n   {'year': 2013, 'value': 5476},\n   {'year': 2014, 'value': 5459},\n   {'year': 2015, 'value': 4175},\n   {'year': 2016, 'value': 4129},\n   {'year': 2017, 'value': ''}]},\n {'name': 'Population',\n  'unit': 'million',\n  'values': [{'year': 2010, 'value': 36.04},\n   {'year': 2011, 'value': 36.72},\n   {'year': 2012, 'value': 37.44},\n   {'year': 2013, 'value': 38.19},\n   {'year': 2014, 'value': 38.93},\n   {'year': 2015, 'value': 39.67},\n   {'year': 2016, 'value': 40.38},\n   {'year': 2017, 'value': ''}]},\n {'name': 'Human Development Index',\n  'unit': '',\n  'values': [{'year': 2010, 'value': 0.71},\n   {'year': 2011, 'value': 0.72},\n   {'year': 2012, 'value': 0.72},\n   {'year': 2013, 'value': 0.72},\n   {'year': 2014, 'value': 0.74},\n   {'year': 2015, 'value': ''},\n   {'year': 2016, 'value': ''},\n   {'year': 2017, 'value': ''}]},\n {'name': 'CO2 emissions intensity',\n  'unit': 'kg/$1000 of GDP',\n  'values': [{'year': 2010, 'value': 246.88},\n   {'year': 2011, 'value': 251.46},\n   {'year': 2012, 'value': 259.52},\n   {'year': 2013, 'value': 258.53},\n   {'year': 2014, 'value': 268.36},\n   {'year': 2015, 'value': 269.37},\n   {'year': 2016, 'value': ''},\n   {'year': 2017, 'value': ''}]},\n {'name': 'CO2 emissions per capita',\n  'unit': 'metric tons',\n  'values': [{'year': 2010, 'value': 3.18},\n   {'year': 2011, 'value': 3.28},\n   {'year': 2012, 'value': 3.43},\n   {'year': 2013, 'value': 3.44},\n   {'year': 2014, 'value': 3.64},\n   {'year': 2015, 'value': 3.72},\n   {'year': 2016, 'value': ''},\n   {'year': 2017, 'value': ''}]}]"
     },
     "execution_count": 5,
     "metadata": {},
     "output_type": "execute_result"
    }
   ],
   "source": [
    "# item 0: economic indicators\n",
    "    # 3 is gdp per capita\n",
    "    # 5 is pop\n",
    "    # 7 is HDI\n",
    "    # 13 is co2 em itensity\n",
    "    # 14 is co2 per capita\n",
    "econ_indics = [3, 5, 7, 13, 14]\n",
    "[mena_json['countries'][0]['subject'][0]['indicator'][sec] for sec in econ_indics]"
   ],
   "metadata": {
    "collapsed": false
   }
  },
  {
   "cell_type": "code",
   "execution_count": 6,
   "outputs": [
    {
     "data": {
      "text/plain": "[{'name': 'Gross energy production',\n  'unit': 'ktoe',\n  'values': [{'year': 2010, 'value': 150510.895},\n   {'year': 2011, 'value': 145832.565},\n   {'year': 2012, 'value': 143763.68},\n   {'year': 2013, 'value': 137669.492},\n   {'year': 2014, 'value': 143197.3},\n   {'year': 2015, 'value': ''},\n   {'year': 2016, 'value': ''},\n   {'year': 2017, 'value': ''}]},\n {'name': 'Gross energy production - Crude Oil and Oil Products',\n  'unit': '%',\n  'values': [{'year': 2010, 'value': 52.15272223316458},\n   {'year': 2011, 'value': 52.25005539743472},\n   {'year': 2012, 'value': 49.515179355453334},\n   {'year': 2013, 'value': 49.92558990484253},\n   {'year': 2014, 'value': 50.96184564932439},\n   {'year': 2015, 'value': ''},\n   {'year': 2016, 'value': ''},\n   {'year': 2017, 'value': ''}]},\n {'name': 'Gross energy production - Natural Gas',\n  'unit': '%',\n  'values': [{'year': 2010, 'value': 47.80292217383998},\n   {'year': 2011, 'value': 47.70930415987677},\n   {'year': 2012, 'value': 50.43678208571178},\n   {'year': 2013, 'value': 50.03787113560353},\n   {'year': 2014, 'value': 49.01871403999937},\n   {'year': 2015, 'value': ''},\n   {'year': 2016, 'value': ''},\n   {'year': 2017, 'value': ''}]},\n {'name': 'Gross energy production - Coal',\n  'unit': '%',\n  'values': [{'year': 2010, 'value': 0},\n   {'year': 2011, 'value': 0},\n   {'year': 2012, 'value': 0},\n   {'year': 2013, 'value': 0},\n   {'year': 2014, 'value': 0},\n   {'year': 2015, 'value': ''},\n   {'year': 2016, 'value': ''},\n   {'year': 2017, 'value': ''}]},\n {'name': 'Gross energy production - Nuclear',\n  'unit': '%',\n  'values': [{'year': 2010, 'value': 0},\n   {'year': 2011, 'value': 0},\n   {'year': 2012, 'value': 0},\n   {'year': 2013, 'value': 0},\n   {'year': 2014, 'value': 0},\n   {'year': 2015, 'value': ''},\n   {'year': 2016, 'value': ''},\n   {'year': 2017, 'value': ''}]},\n {'name': 'Gross energy production - Renewables',\n  'unit': '%',\n  'values': [{'year': 2010, 'value': 0.044355592995443956},\n   {'year': 2011, 'value': 0.04064044268850377},\n   {'year': 2012, 'value': 0.048038558834887925},\n   {'year': 2013, 'value': 0.0365382331765995},\n   {'year': 2014, 'value': 0.019440310676248785},\n   {'year': 2015, 'value': ''},\n   {'year': 2016, 'value': ''},\n   {'year': 2017, 'value': ''}]},\n {'name': 'Gross energy production - Solar',\n  'unit': '%',\n  'values': [{'year': 2010, 'value': 0},\n   {'year': 2011, 'value': 0},\n   {'year': 2012, 'value': 0},\n   {'year': 2013, 'value': 0},\n   {'year': 2014, 'value': 0},\n   {'year': 2015, 'value': ''},\n   {'year': 2016, 'value': ''},\n   {'year': 2017, 'value': ''}]},\n {'name': 'Gross energy production - Wind',\n  'unit': '%',\n  'values': [{'year': 2010, 'value': 0},\n   {'year': 2011, 'value': 0},\n   {'year': 2012, 'value': 0},\n   {'year': 2013, 'value': 0},\n   {'year': 2014, 'value': 0},\n   {'year': 2015, 'value': ''},\n   {'year': 2016, 'value': ''},\n   {'year': 2017, 'value': ''}]},\n {'name': 'Gross energy production - Hydropower',\n  'unit': '%',\n  'values': [{'year': 2010, 'value': 0.009942137411381417},\n   {'year': 2011, 'value': 0.02960381311266108},\n   {'year': 2012, 'value': 0.03720828515241123},\n   {'year': 2013, 'value': 0.020614589033276884},\n   {'year': 2014, 'value': 0.015254477563473616},\n   {'year': 2015, 'value': ''},\n   {'year': 2016, 'value': ''},\n   {'year': 2017, 'value': ''}]},\n {'name': 'Gross energy production - Other',\n  'unit': '%',\n  'values': [{'year': 2010, 'value': 0},\n   {'year': 2011, 'value': 0},\n   {'year': 2012, 'value': 0},\n   {'year': 2013, 'value': 7.263773369459159e-07},\n   {'year': 2014, 'value': 0},\n   {'year': 2015, 'value': ''},\n   {'year': 2016, 'value': ''},\n   {'year': 2017, 'value': ''}]},\n {'name': 'Total energy export',\n  'unit': 'ktoe',\n  'values': [{'year': 2010, 'value': 111100.497},\n   {'year': 2011, 'value': 105981.927},\n   {'year': 2012, 'value': 102433.231},\n   {'year': 2013, 'value': 94943.648},\n   {'year': 2014, 'value': 93396.093},\n   {'year': 2015, 'value': ''},\n   {'year': 2016, 'value': ''},\n   {'year': 2017, 'value': ''}]},\n {'name': 'Total energy export - Crude Oil and Oil Products',\n  'unit': '%',\n  'values': [{'year': 2010, 'value': 56.16217270387188},\n   {'year': 2011, 'value': 57.666513272588446},\n   {'year': 2012, 'value': 56.47350028429739},\n   {'year': 2013, 'value': 57.52375977801064},\n   {'year': 2014, 'value': 59.29711963432989},\n   {'year': 2015, 'value': ''},\n   {'year': 2016, 'value': ''},\n   {'year': 2017, 'value': ''}]},\n {'name': 'Total energy export - Natural Gas',\n  'unit': '%',\n  'values': [{'year': 2010, 'value': 43.77566915834768},\n   {'year': 2011, 'value': 42.2686502010857},\n   {'year': 2012, 'value': 43.44380194353139},\n   {'year': 2013, 'value': 42.44145853759485},\n   {'year': 2014, 'value': 40.62212538162598},\n   {'year': 2015, 'value': ''},\n   {'year': 2016, 'value': ''},\n   {'year': 2017, 'value': ''}]},\n {'name': 'Total energy export - Coal',\n  'unit': '%',\n  'values': [{'year': 2010, 'value': 0},\n   {'year': 2011, 'value': 0},\n   {'year': 2012, 'value': 0},\n   {'year': 2013, 'value': 0},\n   {'year': 2014, 'value': 0},\n   {'year': 2015, 'value': ''},\n   {'year': 2016, 'value': ''},\n   {'year': 2017, 'value': ''}]},\n {'name': 'Total energy export - Electricity',\n  'unit': '%',\n  'values': [{'year': 2010, 'value': 0.06215813778042775},\n   {'year': 2011, 'value': 0.06483558276874886},\n   {'year': 2012, 'value': 0.08269777217122048},\n   {'year': 2013, 'value': 0.03478273765086423},\n   {'year': 2014, 'value': 0.08075498404413985},\n   {'year': 2015, 'value': ''},\n   {'year': 2016, 'value': ''},\n   {'year': 2017, 'value': ''}]},\n {'name': 'Total energy import',\n  'unit': 'ktoe',\n  'values': [{'year': 2010, 'value': 1694.684},\n   {'year': 2011, 'value': 2718.044},\n   {'year': 2012, 'value': 5301.213},\n   {'year': 2013, 'value': 5754.706},\n   {'year': 2014, 'value': 3651.449},\n   {'year': 2015, 'value': ''},\n   {'year': 2016, 'value': ''},\n   {'year': 2017, 'value': ''}]},\n {'name': 'Total energy import- Crude Oil and Oil Products',\n  'unit': '%',\n  'values': [{'year': 2010, 'value': 76.3530546107711},\n   {'year': 2011, 'value': 87.06735431803165},\n   {'year': 2012, 'value': 93.13253400683959},\n   {'year': 2013, 'value': 96.39899935809058},\n   {'year': 2014, 'value': 93.66210509855128},\n   {'year': 2015, 'value': ''},\n   {'year': 2016, 'value': ''},\n   {'year': 2017, 'value': ''}]},\n {'name': 'Total energy import - Natural Gas',\n  'unit': '%',\n  'values': [{'year': 2010, 'value': 0},\n   {'year': 2011, 'value': 0},\n   {'year': 2012, 'value': 0},\n   {'year': 2013, 'value': 0},\n   {'year': 2014, 'value': 0},\n   {'year': 2015, 'value': ''},\n   {'year': 2016, 'value': ''},\n   {'year': 2017, 'value': ''}]},\n {'name': 'Total energy import - Coal',\n  'unit': '%',\n  'values': [{'year': 2010, 'value': 19.91203079748201},\n   {'year': 2011, 'value': 10.853871386923831},\n   {'year': 2012, 'value': 5.349021063669768},\n   {'year': 2013, 'value': 3.160144062963425},\n   {'year': 2014, 'value': 4.722180153686933},\n   {'year': 2015, 'value': ''},\n   {'year': 2016, 'value': ''},\n   {'year': 2017, 'value': ''}]},\n {'name': 'Total energy import - Electricity',\n  'unit': '%',\n  'values': [{'year': 2010, 'value': 3.7349735997979563},\n   {'year': 2011, 'value': 2.078774295044525},\n   {'year': 2012, 'value': 1.5184449294906655},\n   {'year': 2013, 'value': 0.4408565789459966},\n   {'year': 2014, 'value': 1.6156873613735259},\n   {'year': 2015, 'value': ''},\n   {'year': 2016, 'value': ''},\n   {'year': 2017, 'value': ''}]},\n {'name': 'Total primary energy supply (TPES)',\n  'unit': 'ktoe',\n  'values': [{'year': 2010, 'value': 40086.693},\n   {'year': 2011, 'value': 41817.609},\n   {'year': 2012, 'value': 45965.262},\n   {'year': 2013, 'value': 47579.626},\n   {'year': 2014, 'value': 51672.578},\n   {'year': 2015, 'value': ''},\n   {'year': 2016, 'value': ''},\n   {'year': 2017, 'value': ''}]},\n {'name': 'Primary energy supply per capita',\n  'unit': 'toe',\n  'values': [{'year': 2010, 'value': 1.1122833795782463},\n   {'year': 2011, 'value': 1.1388237745098038},\n   {'year': 2012, 'value': 1.2277046474358975},\n   {'year': 2013, 'value': 1.2458660905996333},\n   {'year': 2014, 'value': 1.32732026714616},\n   {'year': 2015, 'value': ''},\n   {'year': 2016, 'value': ''},\n   {'year': 2017, 'value': ''}]},\n {'name': 'Energy productivity',\n  'unit': '$/kgoe',\n  'values': [{'year': 2010, 'value': 4.021534028761115},\n   {'year': 2011, 'value': 4.767847917847241},\n   {'year': 2012, 'value': 4.5471295257710045},\n   {'year': 2013, 'value': 4.407348641202014},\n   {'year': 2014, 'value': 4.1321723874508445},\n   {'year': 2015, 'value': ''},\n   {'year': 2016, 'value': ''},\n   {'year': 2017, 'value': ''}]},\n {'name': 'Energy subsidies',\n  'unit': '$B',\n  'values': [{'year': 2010, 'value': ''},\n   {'year': 2011, 'value': ''},\n   {'year': 2012, 'value': ''},\n   {'year': 2013, 'value': 29.321720999999997},\n   {'year': 2014, 'value': 24.4},\n   {'year': 2015, 'value': 23.869921639561653},\n   {'year': 2016, 'value': ''},\n   {'year': 2017, 'value': ''}]},\n {'name': 'Final energy consumption',\n  'unit': 'ktoe',\n  'values': [{'year': 2010, 'value': 26518.964},\n   {'year': 2011, 'value': 27645.387},\n   {'year': 2012, 'value': 30492.48},\n   {'year': 2013, 'value': 31893.52},\n   {'year': 2014, 'value': 35019.156},\n   {'year': 2015, 'value': ''},\n   {'year': 2016, 'value': ''},\n   {'year': 2017, 'value': ''}]},\n {'name': 'Final energy consumption - Crude Oil and Oil Products',\n  'unit': '%',\n  'values': [{'year': 2010, 'value': 54.16153134790635},\n   {'year': 2011, 'value': 52.99916763690088},\n   {'year': 2012, 'value': 51.77259442328076},\n   {'year': 2013, 'value': 51.88693189086686},\n   {'year': 2014, 'value': 51.50428525461893},\n   {'year': 2015, 'value': ''},\n   {'year': 2016, 'value': ''},\n   {'year': 2017, 'value': ''}]},\n {'name': 'Final energy consumption - Natural Gas',\n  'unit': '%',\n  'values': [{'year': 2010, 'value': 34.35511658751073},\n   {'year': 2011, 'value': 35.45866440574697},\n   {'year': 2012, 'value': 36.39245807490896},\n   {'year': 2013, 'value': 36.13809325530703},\n   {'year': 2014, 'value': 37.15711766440059},\n   {'year': 2015, 'value': ''},\n   {'year': 2016, 'value': ''},\n   {'year': 2017, 'value': ''}]},\n {'name': 'Final energy consumption - Coal',\n  'unit': '%',\n  'values': [{'year': 2010, 'value': 0.4338404773278473},\n   {'year': 2011, 'value': 0.3263473938708111},\n   {'year': 2012, 'value': 0.28327640126352466},\n   {'year': 2013, 'value': 0.1942338130128001},\n   {'year': 2014, 'value': 0.0859558122988458},\n   {'year': 2015, 'value': ''},\n   {'year': 2016, 'value': ''},\n   {'year': 2017, 'value': ''}]},\n {'name': 'Final energy consumption - Electricity',\n  'unit': '%',\n  'values': [{'year': 2010, 'value': 10.854194756627749},\n   {'year': 2011, 'value': 11.15760108549032},\n   {'year': 2012, 'value': 11.500612610059925},\n   {'year': 2013, 'value': 11.637436068517994},\n   {'year': 2014, 'value': 11.235524922416747},\n   {'year': 2015, 'value': ''},\n   {'year': 2016, 'value': ''},\n   {'year': 2017, 'value': ''}]},\n {'name': 'Final energy consumption - Other',\n  'unit': '%',\n  'values': [{'year': 2010, 'value': 0.19531683062733407},\n   {'year': 2011, 'value': 0.058219477991031},\n   {'year': 2012, 'value': 0.05105849048683808},\n   {'year': 2013, 'value': 0.14330497229531147},\n   {'year': 2014, 'value': 0.017116346264899107},\n   {'year': 2015, 'value': ''},\n   {'year': 2016, 'value': ''},\n   {'year': 2017, 'value': ''}]},\n {'name': 'Energy use per capita',\n  'unit': 'toe',\n  'values': [{'year': 2010, 'value': 0.7358203107658158},\n   {'year': 2011, 'value': 0.7528700163398693},\n   {'year': 2012, 'value': 0.8144358974358974},\n   {'year': 2013, 'value': 0.8351275202932705},\n   {'year': 2014, 'value': 0.8995416388389418},\n   {'year': 2015, 'value': ''},\n   {'year': 2016, 'value': ''},\n   {'year': 2017, 'value': ''}]},\n {'name': 'Energy use by Sector - Industry',\n  'unit': '%',\n  'values': [{'year': 2010, 'value': 19.740744774192535},\n   {'year': 2011, 'value': 19.472460269773038},\n   {'year': 2012, 'value': 17.096789109970718},\n   {'year': 2013, 'value': 16.71412562802726},\n   {'year': 2014, 'value': 15.530360012103086},\n   {'year': 2015, 'value': ''},\n   {'year': 2016, 'value': ''},\n   {'year': 2017, 'value': ''}]},\n {'name': 'Energy use by Sector - Transport',\n  'unit': '%',\n  'values': [{'year': 2010, 'value': 40.216246758357535},\n   {'year': 2011, 'value': 39.829762556769424},\n   {'year': 2012, 'value': 39.77257343449926},\n   {'year': 2013, 'value': 39.392428305185504},\n   {'year': 2014, 'value': 41.49456086263187},\n   {'year': 2015, 'value': ''},\n   {'year': 2016, 'value': ''},\n   {'year': 2017, 'value': ''}]},\n {'name': 'Energy use by Sector - Residential',\n  'unit': '%',\n  'values': [{'year': 2010, 'value': 24.41764316283245},\n   {'year': 2011, 'value': 25.757696935116154},\n   {'year': 2012, 'value': 26.88825900681086},\n   {'year': 2013, 'value': 27.997311052527284},\n   {'year': 2014, 'value': 26.411615973840146},\n   {'year': 2015, 'value': ''},\n   {'year': 2016, 'value': ''},\n   {'year': 2017, 'value': ''}]},\n {'name': 'Energy use by Sector - Tertiary',\n  'unit': '%',\n  'values': [{'year': 2010, 'value': 0.01799089889031864},\n   {'year': 2011, 'value': 0.019511392624020785},\n   {'year': 2012, 'value': 0.020650993294084312},\n   {'year': 2013, 'value': 0},\n   {'year': 2014, 'value': 0},\n   {'year': 2015, 'value': ''},\n   {'year': 2016, 'value': ''},\n   {'year': 2017, 'value': ''}]},\n {'name': 'Energy use by Sector - Agricultural & Fishing',\n  'unit': '%',\n  'values': [{'year': 2010, 'value': 0.5508963321493253},\n   {'year': 2011, 'value': 0.5664995754987985},\n   {'year': 2012, 'value': 0.5364076651030024},\n   {'year': 2013, 'value': 0.38905395202536436},\n   {'year': 2014, 'value': 0.5763702586093166},\n   {'year': 2015, 'value': ''},\n   {'year': 2016, 'value': ''},\n   {'year': 2017, 'value': ''}]},\n {'name': 'Energy use by Sector - Other',\n  'unit': '%',\n  'values': [{'year': 2010, 'value': 15.056478073577823},\n   {'year': 2011, 'value': 14.354069270218565},\n   {'year': 2012, 'value': 15.685319790322074},\n   {'year': 2013, 'value': 15.5070810622346},\n   {'year': 2014, 'value': 15.987092892815582},\n   {'year': 2015, 'value': ''},\n   {'year': 2016, 'value': ''},\n   {'year': 2017, 'value': ''}]}]"
     },
     "execution_count": 6,
     "metadata": {},
     "output_type": "execute_result"
    }
   ],
   "source": [
    "mena_json['countries'][0]['subject'][1]['indicator']"
   ],
   "metadata": {
    "collapsed": false
   }
  },
  {
   "cell_type": "code",
   "execution_count": 7,
   "outputs": [
    {
     "data": {
      "text/plain": "[{'name': 'Gross energy production',\n  'unit': 'ktoe',\n  'values': [{'year': 2010, 'value': 150510.895},\n   {'year': 2011, 'value': 145832.565},\n   {'year': 2012, 'value': 143763.68},\n   {'year': 2013, 'value': 137669.492},\n   {'year': 2014, 'value': 143197.3},\n   {'year': 2015, 'value': ''},\n   {'year': 2016, 'value': ''},\n   {'year': 2017, 'value': ''}]},\n {'name': 'Gross energy production - Crude Oil and Oil Products',\n  'unit': '%',\n  'values': [{'year': 2010, 'value': 52.15272223316458},\n   {'year': 2011, 'value': 52.25005539743472},\n   {'year': 2012, 'value': 49.515179355453334},\n   {'year': 2013, 'value': 49.92558990484253},\n   {'year': 2014, 'value': 50.96184564932439},\n   {'year': 2015, 'value': ''},\n   {'year': 2016, 'value': ''},\n   {'year': 2017, 'value': ''}]},\n {'name': 'Gross energy production - Natural Gas',\n  'unit': '%',\n  'values': [{'year': 2010, 'value': 47.80292217383998},\n   {'year': 2011, 'value': 47.70930415987677},\n   {'year': 2012, 'value': 50.43678208571178},\n   {'year': 2013, 'value': 50.03787113560353},\n   {'year': 2014, 'value': 49.01871403999937},\n   {'year': 2015, 'value': ''},\n   {'year': 2016, 'value': ''},\n   {'year': 2017, 'value': ''}]},\n {'name': 'Gross energy production - Coal',\n  'unit': '%',\n  'values': [{'year': 2010, 'value': 0},\n   {'year': 2011, 'value': 0},\n   {'year': 2012, 'value': 0},\n   {'year': 2013, 'value': 0},\n   {'year': 2014, 'value': 0},\n   {'year': 2015, 'value': ''},\n   {'year': 2016, 'value': ''},\n   {'year': 2017, 'value': ''}]},\n {'name': 'Gross energy production - Nuclear',\n  'unit': '%',\n  'values': [{'year': 2010, 'value': 0},\n   {'year': 2011, 'value': 0},\n   {'year': 2012, 'value': 0},\n   {'year': 2013, 'value': 0},\n   {'year': 2014, 'value': 0},\n   {'year': 2015, 'value': ''},\n   {'year': 2016, 'value': ''},\n   {'year': 2017, 'value': ''}]},\n {'name': 'Gross energy production - Renewables',\n  'unit': '%',\n  'values': [{'year': 2010, 'value': 0.044355592995443956},\n   {'year': 2011, 'value': 0.04064044268850377},\n   {'year': 2012, 'value': 0.048038558834887925},\n   {'year': 2013, 'value': 0.0365382331765995},\n   {'year': 2014, 'value': 0.019440310676248785},\n   {'year': 2015, 'value': ''},\n   {'year': 2016, 'value': ''},\n   {'year': 2017, 'value': ''}]},\n {'name': 'Gross energy production - Solar',\n  'unit': '%',\n  'values': [{'year': 2010, 'value': 0},\n   {'year': 2011, 'value': 0},\n   {'year': 2012, 'value': 0},\n   {'year': 2013, 'value': 0},\n   {'year': 2014, 'value': 0},\n   {'year': 2015, 'value': ''},\n   {'year': 2016, 'value': ''},\n   {'year': 2017, 'value': ''}]},\n {'name': 'Gross energy production - Wind',\n  'unit': '%',\n  'values': [{'year': 2010, 'value': 0},\n   {'year': 2011, 'value': 0},\n   {'year': 2012, 'value': 0},\n   {'year': 2013, 'value': 0},\n   {'year': 2014, 'value': 0},\n   {'year': 2015, 'value': ''},\n   {'year': 2016, 'value': ''},\n   {'year': 2017, 'value': ''}]},\n {'name': 'Gross energy production - Hydropower',\n  'unit': '%',\n  'values': [{'year': 2010, 'value': 0.009942137411381417},\n   {'year': 2011, 'value': 0.02960381311266108},\n   {'year': 2012, 'value': 0.03720828515241123},\n   {'year': 2013, 'value': 0.020614589033276884},\n   {'year': 2014, 'value': 0.015254477563473616},\n   {'year': 2015, 'value': ''},\n   {'year': 2016, 'value': ''},\n   {'year': 2017, 'value': ''}]},\n {'name': 'Gross energy production - Other',\n  'unit': '%',\n  'values': [{'year': 2010, 'value': 0},\n   {'year': 2011, 'value': 0},\n   {'year': 2012, 'value': 0},\n   {'year': 2013, 'value': 7.263773369459159e-07},\n   {'year': 2014, 'value': 0},\n   {'year': 2015, 'value': ''},\n   {'year': 2016, 'value': ''},\n   {'year': 2017, 'value': ''}]}]"
     },
     "execution_count": 7,
     "metadata": {},
     "output_type": "execute_result"
    }
   ],
   "source": [
    "# item 1: energy indicators\n",
    "    # 1 is gross energy production\n",
    "    # 2-4 are fossil fuel prod\n",
    "    # 5 is nuclear\n",
    "    # 6 is gross eprod renewables\n",
    "    # 7-10 are solar, wind, hydro, other energy prod\n",
    "[mena_json['countries'][0]['subject'][1]['indicator'][sec] for sec in range(10)]"
   ],
   "metadata": {
    "collapsed": false
   }
  },
  {
   "cell_type": "code",
   "execution_count": 8,
   "outputs": [
    {
     "data": {
      "text/plain": "[{'name': 'Cost of electricity',\n  'unit': '$/kWh',\n  'values': [{'year': 2010, 'value': ''},\n   {'year': 2011, 'value': ''},\n   {'year': 2012, 'value': 0.2016},\n   {'year': 2013, 'value': 0.2157},\n   {'year': 2014, 'value': 0.1984},\n   {'year': 2015, 'value': 0.1563},\n   {'year': 2016, 'value': 0.1184},\n   {'year': 2017, 'value': ''}]},\n {'name': 'Electricity price',\n  'unit': '$/kWh',\n  'values': [{'year': 2010, 'value': ''},\n   {'year': 2011, 'value': ''},\n   {'year': 2012, 'value': 0.03868},\n   {'year': 2013, 'value': 0.04012},\n   {'year': 2014, 'value': 0.04014},\n   {'year': 2015, 'value': 0.03229},\n   {'year': 2016, 'value': 0.03964},\n   {'year': 2017, 'value': ''}]}]"
     },
     "execution_count": 8,
     "metadata": {},
     "output_type": "execute_result"
    }
   ],
   "source": [
    "# item 4: electricity indicators\n",
    "    # 8 is kWh consumption per capita\n",
    "    # 9 is cost of elec per kWh\n",
    "[mena_json['countries'][0]['subject'][4]['indicator'][sec] for sec in (8, 9)]"
   ],
   "metadata": {
    "collapsed": false
   }
  },
  {
   "cell_type": "code",
   "execution_count": 8,
   "outputs": [],
   "source": [],
   "metadata": {
    "collapsed": false
   }
  }
 ],
 "metadata": {
  "kernelspec": {
   "display_name": "Python 3",
   "language": "python",
   "name": "python3"
  },
  "language_info": {
   "codemirror_mode": {
    "name": "ipython",
    "version": 2
   },
   "file_extension": ".py",
   "mimetype": "text/x-python",
   "name": "python",
   "nbconvert_exporter": "python",
   "pygments_lexer": "ipython2",
   "version": "2.7.6"
  }
 },
 "nbformat": 4,
 "nbformat_minor": 0
}
